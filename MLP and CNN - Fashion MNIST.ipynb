{
 "cells": [
  {
   "cell_type": "markdown",
   "metadata": {
    "id": "26PaAAqv3Z9a"
   },
   "source": [
    "# Classification of Image Data"
   ]
  },
  {
   "cell_type": "markdown",
   "metadata": {
    "id": "1UHjZ5YQ3eyC"
   },
   "source": [
    "## Libraries Importation "
   ]
  },
  {
   "cell_type": "code",
   "execution_count": 123,
   "metadata": {
    "ExecuteTime": {
     "end_time": "2022-11-24T00:58:13.275333Z",
     "start_time": "2022-11-24T00:58:13.271366Z"
    },
    "id": "QC7af89B4Y_X"
   },
   "outputs": [],
   "source": [
    "# Import the libraries\n",
    "import seaborn as sns\n",
    "import tensorflow as tf\n",
    "import tensorflow_datasets as tfds\n",
    "tfds.disable_progress_bar()\n",
    "import math\n",
    "import numpy as np\n",
    "import pandas as pd\n",
    "import matplotlib.pyplot as plt\n",
    "import logging\n",
    "logger = tf.get_logger()\n",
    "logger.setLevel(logging.ERROR)\n",
    "from typing import List\n",
    "from tqdm import tqdm\n",
    "from random import sample\n",
    "import warnings\n",
    "warnings.filterwarnings('ignore')"
   ]
  },
  {
   "cell_type": "markdown",
   "metadata": {
    "id": "NMlV_Jm9f_NX"
   },
   "source": [
    "## Data Preparation"
   ]
  },
  {
   "cell_type": "code",
   "execution_count": 124,
   "metadata": {
    "ExecuteTime": {
     "end_time": "2022-11-24T00:58:14.827461Z",
     "start_time": "2022-11-24T00:58:14.823742Z"
    },
    "id": "dttcEpm4f_NX"
   },
   "outputs": [],
   "source": [
    "# Check if the pictures in the dataset are consistent in term of size\n",
    "def size_check(dataset):\n",
    "    dim_first_element = dataset[0].shape\n",
    "    for element in range (1, len(dataset)):\n",
    "        if dataset[element].shape != dim_first_element:\n",
    "            return False\n",
    "    return True"
   ]
  },
  {
   "cell_type": "code",
   "execution_count": 125,
   "metadata": {
    "ExecuteTime": {
     "end_time": "2022-11-24T00:58:15.347684Z",
     "start_time": "2022-11-24T00:58:15.339816Z"
    },
    "id": "fLfh0UqfGWjK"
   },
   "outputs": [],
   "source": [
    "# Create a function to import the datasets automatically with or without normalization\n",
    "def data_import(normalize = True):\n",
    "    (x_train, y_train), (x_test, y_test) = tf.keras.datasets.fashion_mnist.load_data()\n",
    "    \n",
    "    if size_check(x_train):\n",
    "        x_train = x_train.reshape((x_train.shape[0], (x_train[0].shape)[0] * (x_train[0].shape)[1]))\n",
    "    else:\n",
    "        print(\"Image sizes are not consistent\")\n",
    "    \n",
    "    if size_check(x_test):\n",
    "        x_test = x_test.reshape((x_test.shape[0], (x_test[0].shape)[0] * (x_test[0].shape)[1]))\n",
    "    else:\n",
    "        print(\"Image sizes are not consistent\")\n",
    "    \n",
    "\n",
    "    x_train = x_train/255\n",
    "    x_test = x_test/255\n",
    "    if normalize == True:\n",
    "        x_train = (x_train - np.average(x_train)) / np.std(x_train)\n",
    "        x_test = (x_test - np.average(x_test)) / np.std(x_test)\n",
    "    return pd.DataFrame(x_train), pd.DataFrame(y_train), pd.DataFrame(x_test), pd.DataFrame(y_test)"
   ]
  },
  {
   "cell_type": "code",
   "execution_count": 126,
   "metadata": {
    "ExecuteTime": {
     "end_time": "2022-11-24T00:58:15.997511Z",
     "start_time": "2022-11-24T00:58:15.990107Z"
    },
    "colab": {
     "base_uri": "https://localhost:8080/"
    },
    "id": "b_lkb00YQtvc",
    "outputId": "294f4fd0-be80-4e18-ca9b-60cb052f49f6"
   },
   "outputs": [
    {
     "data": {
      "text/plain": [
       "{0: 'T-shirt/top',\n",
       " 1: 'Trouser',\n",
       " 2: 'Pullover',\n",
       " 3: 'Dress',\n",
       " 4: 'Coat',\n",
       " 5: 'Sandal',\n",
       " 6: 'Shirt',\n",
       " 7: 'Sneaker',\n",
       " 8: 'Bag',\n",
       " 9: 'Ankle boot'}"
      ]
     },
     "execution_count": 126,
     "metadata": {},
     "output_type": "execute_result"
    }
   ],
   "source": [
    "# Input the class names associated to the dataset and create a dictionary linking every number to a category\n",
    "class_name = np.array(['T-shirt/top', 'Trouser', 'Pullover', 'Dress', 'Coat', 'Sandal', 'Shirt', 'Sneaker', 'Bag', 'Ankle boot']).T\n",
    "dic_class = {}\n",
    "for i,name in enumerate(class_name):\n",
    "    dic_class[i] = name\n",
    "dic_class"
   ]
  },
  {
   "cell_type": "code",
   "execution_count": 127,
   "metadata": {
    "ExecuteTime": {
     "end_time": "2022-11-24T00:58:17.772720Z",
     "start_time": "2022-11-24T00:58:16.490222Z"
    },
    "colab": {
     "base_uri": "https://localhost:8080/"
    },
    "id": "KHMznSDGI_Xr",
    "outputId": "efe0bc2c-f951-46fb-e0eb-568729cde145"
   },
   "outputs": [
    {
     "data": {
      "text/plain": [
       "((60000, 784), (10000, 784))"
      ]
     },
     "execution_count": 127,
     "metadata": {},
     "output_type": "execute_result"
    }
   ],
   "source": [
    "# Import the normalized datasets\n",
    "x_train, y_train, x_test, y_test = data_import(normalize = True)\n",
    "y_train.columns= ['Class']\n",
    "y_test.columns= ['Class']\n",
    "x_train.shape, x_test.shape"
   ]
  },
  {
   "cell_type": "code",
   "execution_count": 128,
   "metadata": {
    "ExecuteTime": {
     "end_time": "2022-11-24T00:58:22.744076Z",
     "start_time": "2022-11-24T00:58:22.740379Z"
    },
    "id": "bLrEFTYKf_NZ"
   },
   "outputs": [],
   "source": [
    "# Create a function able to take any element in the vectorized x dataset and display the corresponding image\n",
    "def visualize(vector, size1, size2):\n",
    "    vector = vector.reshape((size1, size2))*255\n",
    "    plt.imshow(vector, cmap='gray', vmin=0, vmax=255)\n",
    "    plt.show()"
   ]
  },
  {
   "cell_type": "code",
   "execution_count": 129,
   "metadata": {
    "ExecuteTime": {
     "end_time": "2022-11-24T00:58:23.510805Z",
     "start_time": "2022-11-24T00:58:23.356781Z"
    },
    "colab": {
     "base_uri": "https://localhost:8080/",
     "height": 265
    },
    "id": "ma9Hz-esf_NZ",
    "outputId": "4331267c-d8a3-4f2b-82ee-db90aa1eba3f"
   },
   "outputs": [
    {
     "data": {
      "image/png": "[encoded data removed]",
      "text/plain": [
       "<Figure size 432x288 with 1 Axes>"
      ]
     },
     "metadata": {
      "needs_background": "light"
     },
     "output_type": "display_data"
    }
   ],
   "source": [
    "# Test the function on the first element of the normalized training dataset\n",
    "vector = x_train.iloc[0,:].to_numpy()\n",
    "visualize(vector, int(np.sqrt(len(vector))), int(np.sqrt(len(vector))))"
   ]
  },
  {
   "cell_type": "markdown",
   "metadata": {
    "id": "D8JEqk3cf_NZ"
   },
   "source": [
    "## Model implementation"
   ]
  },
  {
   "cell_type": "code",
   "execution_count": 131,
   "metadata": {
    "id": "ACuKPlqIf_Na"
   },
   "outputs": [],
   "source": [
    "# Create the parent class for the layer types of the MLP\n",
    "class NeuralNetLayer:\n",
    "    def __init__(self):\n",
    "        self.gradient = None\n",
    "        self.parameters = None\n",
    "        \n",
    "    def forward(self, x):\n",
    "        raise NotImplementedError\n",
    "\n",
    "    def backward(self, gradient):\n",
    "        raise NotImplementedError"
   ]
  },
  {
   "cell_type": "code",
   "execution_count": 132,
   "metadata": {
    "id": "FY04kuo3f_Na"
   },
   "outputs": [],
   "source": [
    "# Create some children classes of the NeuralNetLayer class\n",
    "class LinearLayer(NeuralNetLayer):\n",
    "    def __init__(self, input_size, output_size):\n",
    "        super().__init__()\n",
    "        self.ni = input_size\n",
    "        self.no = output_size\n",
    "\n",
    "        self.w = np.random.randn(output_size, input_size)*np.sqrt(2/input_size)\n",
    "#         loc, scale = 0, 1\n",
    "#         self.w = np.random.laplace(loc, scale, (output_size, input_size))*0.01 # we also tried to use a Laplace distribution\n",
    "        self.b = np.random.randn(output_size)\n",
    "        self.last_input = None\n",
    "        self.parameters = [self.w, self.b]\n",
    "  \n",
    "\n",
    "    def forward(self, x):\n",
    "        self.last_input = x\n",
    "        return (self.w[None, :, :] @ x[:, :, None]).squeeze() + self.b\n",
    "\n",
    "    def backward(self, gradient):\n",
    "        dw = gradient[:, :, None] @ self.last_input[:, None, :]\n",
    "        db = 1 * gradient\n",
    "        self.gradient = [dw, db]\n",
    "        return gradient.dot(self.w)\n",
    "\n",
    "class ReLULayer(NeuralNetLayer):\n",
    "    def __init__(self):\n",
    "        super().__init__()\n",
    "        \n",
    "    def forward(self, x):\n",
    "        self.gradient = np.where(x > 0, 1.0, 0.0)\n",
    "        return np.maximum(0, x)\n",
    "\n",
    "    def backward(self, gradient):\n",
    "        return gradient * self.gradient\n",
    "\n",
    "class LeakyReLULayer(NeuralNetLayer):\n",
    "    def __init__(self, alpha):\n",
    "        super().__init__()\n",
    "        self.alpha = alpha\n",
    "        \n",
    "    def forward(self, x):\n",
    "        self.gradient = np.where(x > 0, 1.0, 0.0) + self.alpha * np.where(x < 0, 1.0, 0.0)\n",
    "        return np.maximum(0, x) + self.alpha * np.minimum(0, x)\n",
    "\n",
    "    def backward(self, gradient):\n",
    "        return gradient * self.gradient    \n",
    "    \n",
    "class TanHLayer(NeuralNetLayer):\n",
    "    def __init__(self):\n",
    "        super().__init__()\n",
    "\n",
    "    def forward(self, x):\n",
    "        self.gradient = np.array([1 - ((np.exp(i) - np.exp(-i))/(np.exp(i) + np.exp(-i)))**2 for i in x])\n",
    "        return np.array([(np.exp(i) - np.exp(-i))/(np.exp(i) + np.exp(-i)) for i in x])\n",
    "\n",
    "    def backward(self, gradient):\n",
    "        return gradient * self.gradient    \n",
    "\n",
    "class SoftmaxOutputLayer(NeuralNetLayer):\n",
    "    def __init__(self):\n",
    "        super().__init__()\n",
    "        self.last_probs = None\n",
    "\n",
    "    def forward(self, x):\n",
    "        #exps = np.exp((x - np.max(x)))\n",
    "        exps = np.exp(x - np.max(x, axis=-1,keepdims=True))\n",
    "        probs = exps / np.sum(exps, axis=-1)[:, None]\n",
    "        #probs = x + np.log(np.sum(exps, axis=-1, keepdims=True))[:, None]\n",
    "        self.last_probs = probs\n",
    "        return self.last_probs\n",
    "    \n",
    "    def backward(self, y_real):\n",
    "        return self.last_probs - y_real"
   ]
  },
  {
   "cell_type": "code",
   "execution_count": 133,
   "metadata": {
    "id": "VoxVfuHKf_Na"
   },
   "outputs": [],
   "source": [
    "# Create the MLP class\n",
    "class MLP:\n",
    "    def __init__(self, *args: List[NeuralNetLayer], batch_size):\n",
    "        self.layers = args\n",
    "        self.batch_size=batch_size\n",
    "        self.predictions_train = None\n",
    "        self.predictions_train_total = None\n",
    "        self.predictions_test = None\n",
    "        self.epoch_accuracy_train = []\n",
    "        self.epoch_accuracy_test = []\n",
    "        \n",
    "    def forward(self, x):\n",
    "        for layer in self.layers:\n",
    "            x = layer.forward(x)\n",
    "        return x\n",
    "\n",
    "    def backward(self, target):\n",
    "        for layer in self.layers[::-1]:\n",
    "            target = layer.backward(target)\n",
    "            \n",
    "    def fit(self, optimizer, x_train, y_train, x_test, y_test, epochs, nb_labels):\n",
    "        losses_train = []\n",
    "        losses_test = []\n",
    "        self.epoch_accuracy_train = []\n",
    "        self.epoch_accuracy_test = [] \n",
    "        x_train_epoch = []\n",
    "        y_train_epoch = []\n",
    "        labels_train = np.eye(nb_labels)[np.array(y_train)]\n",
    "        labels_test = np.eye(nb_labels)[np.array(y_test)]     \n",
    "        \n",
    "        for epoch in tqdm(range(epochs)):\n",
    "            \n",
    "            # Partition x_train into a number of batches according to batch size\n",
    "            rand_index = np.random.permutation(x_train.shape[0]) \n",
    "            batch_num = math.ceil(len(rand_index)/self.batch_size) \n",
    "            batches = [rand_index[i:i + self.batch_size] for i in range(0, len(rand_index), self.batch_size)]\n",
    "            \n",
    "            # Traverse each batch until all train samples are covered\n",
    "            for batch_index in batches:\n",
    "                x_train_batch = np.array([x_train[index] for index in batch_index[:]])[::]\n",
    "                y_train_batch = np.array([y_train[index] for index in batch_index[:]])[::]\n",
    "            \n",
    "                labels_train_batch = np.eye(nb_labels)[np.array(y_train_batch)]\n",
    "\n",
    "                self.predictions_train = self.forward(x_train_batch)\n",
    "                \n",
    "                # The mean loss of each batch\n",
    "                loss_train = -(labels_train_batch * np.log(self.predictions_train)).sum(axis=-1).mean()\n",
    "                # loss_train = -(labels_train_batch * np.log1p(self.predictions_train-1)).sum(axis=-1).mean()\n",
    "                \n",
    "                # Backpropagating the error\n",
    "                self.backward(labels_train_batch)\n",
    "                \n",
    "                # Optimizing the parameters\n",
    "                optimizer.step()\n",
    "\n",
    "            # Compute and store the train-accuracy of each epoch\n",
    "            self.predictions_train_total = self.forward(x_train)\n",
    "            epoch_loss_train = -(labels_train * np.log(self.predictions_train_total)).sum(axis=-1).mean()\n",
    "            losses_train.append(epoch_loss_train)\n",
    "            \n",
    "            # Compute and store the train-accuracy in current epoch\n",
    "            accuracy_train = self.multiclass_accuracy(y_train, self.predictions_train_total, nb_labels)\n",
    "            self.epoch_accuracy_train.append(accuracy_train)\n",
    "                \n",
    "            # Compute and store the test-loss in current epoch\n",
    "            self.predictions_test = self.forward(x_test)\n",
    "            epoch_loss_test = -(labels_test * np.log(self.predictions_test)).sum(axis=-1).mean()\n",
    "            losses_test.append(epoch_loss_test)\n",
    "            \n",
    "            # Compute and store the test-accuracy in current epoch\n",
    "            accuracy_test = self.multiclass_accuracy(y_test, self.predictions_test, nb_labels)\n",
    "            self.epoch_accuracy_test.append(accuracy_test)\n",
    "             \n",
    "            print(\"epoch\", epoch+1, \"|loss_train\", epoch_loss_train, \"|accu-train\", accuracy_train, \"|accu-test\", accuracy_test)    \n",
    "   \n",
    "        plt.plot(losses_train, label = \"cross entropy loss on the train set\")\n",
    "        plt.plot(losses_test, label = \"cross entropy loss on the test set\")\n",
    "        plt.legend(loc = 0)\n",
    "        plt.xlabel(\"Epoch\")\n",
    "        plt.ylabel(\"Loss\")\n",
    "        plt.show()        \n",
    "    \n",
    "    def predict(self, x):\n",
    "        self.predictions = self.forward(x)\n",
    "        return self.predictions\n",
    "       \n",
    "    def multiclass_accuracy(self, y, y_pred, nb_labels):\n",
    "        y = np.eye(nb_labels)[np.array(y)]\n",
    "        accuracy = sum(y_pred.argmax(axis=1) == y.argmax(axis=1))\n",
    "        accuracy = accuracy / y.shape[0]\n",
    "        return accuracy  "
   ]
  },
  {
   "cell_type": "code",
   "execution_count": 134,
   "metadata": {
    "id": "AVt_J_JNf_Nb"
   },
   "outputs": [],
   "source": [
    "# Create the optimizers parent class\n",
    "class Optimizer:\n",
    "    def __init__(self, net: MLP):\n",
    "        self.net = net\n",
    "\n",
    "    def step(self):\n",
    "        for layer in self.net.layers[::-1]:\n",
    "            if layer.parameters is not None:\n",
    "                self.update(layer.parameters, layer.gradient)\n",
    "\n",
    "    def update(self, params, gradient):\n",
    "        raise NotImplementedError"
   ]
  },
  {
   "cell_type": "code",
   "execution_count": 135,
   "metadata": {
    "id": "2eeU4Zvif_Nb"
   },
   "outputs": [],
   "source": [
    "# Create children classes of the Optimizer class\n",
    "class StochasticGradientDescentOptimizer(Optimizer):\n",
    "    def __init__(self, net: MLP, lr: float):\n",
    "        super().__init__(net)\n",
    "        self.lr = lr\n",
    "\n",
    "    def update(self, params, gradient):\n",
    "        for (p, g) in zip(params, gradient):\n",
    "            p -= self.lr * g.mean(axis=0)\n",
    "            \n",
    "class GradientDescentRegularizedOptimizer(Optimizer):\n",
    "    def __init__(self, net: MLP, lr: float, Lambda : float):\n",
    "        super().__init__(net)\n",
    "        self.lr = lr\n",
    "        self.Lambda = Lambda\n",
    "\n",
    "    def update(self, params, gradient):\n",
    "        for (p, g) in zip(params, gradient):\n",
    "            p -= self.lr * (g.mean(axis=0) + 2 * self.Lambda * p)"
   ]
  },
  {
   "cell_type": "code",
   "execution_count": 136,
   "metadata": {},
   "outputs": [],
   "source": [
    "# Define the batch size\n",
    "batch_size = 128"
   ]
  },
  {
   "cell_type": "markdown",
   "metadata": {},
   "source": [
    "## Small Perturbation"
   ]
  },
  {
   "cell_type": "code",
   "execution_count": 16,
   "metadata": {},
   "outputs": [
    {
     "data": {
      "text/plain": [
       "4.690800610440693e-08"
      ]
     },
     "execution_count": 16,
     "metadata": {},
     "output_type": "execute_result"
    }
   ],
   "source": [
    "# Check the gradient calculation with ReLU\n",
    "mlp = MLP(LinearLayer(784, 12),\n",
    "          ReLULayer(),\n",
    "          LinearLayer(12, 12),\n",
    "          ReLULayer(),\n",
    "          LinearLayer(12, 10),\n",
    "          SoftmaxOutputLayer(),\n",
    "          batch_size=batch_size)\n",
    "nb = 100\n",
    "layer = 0\n",
    "mlp.forward(x_train.to_numpy()[0:nb])\n",
    "labels = np.eye(10)[y_train.to_numpy()[0:nb].ravel()]\n",
    "mlp.backward(labels)\n",
    "grad = mlp.layers[layer].gradient[0]\n",
    "w = mlp.layers[layer].w\n",
    "eps = 1e-5\n",
    "\n",
    "mat_loss = np.zeros((w.shape[0],w.shape[1]))\n",
    "\n",
    "for i in range(w.shape[0]):\n",
    "    for j in range(w.shape[1]):\n",
    "        \n",
    "        w_plus = w.copy()\n",
    "        w_minus = w.copy() \n",
    "        \n",
    "        w_plus[i][j] = eps + w[i][j]\n",
    "\n",
    "        w_minus[i][j] = -eps + w[i][j]\n",
    "\n",
    "        mlp.layers[layer].w = w_plus\n",
    "        y_pred_plus = mlp.forward(x_train.to_numpy()[0:nb])\n",
    "        loss_plus = -(labels*np.log1p(y_pred_plus-1)).sum(axis=-1).mean()\n",
    "\n",
    "        mlp.layers[layer].w = w_minus\n",
    "        y_pred_minus = mlp.forward(x_train.to_numpy()[0:nb])\n",
    "        loss_minus = -(labels*np.log1p(y_pred_minus-1)).sum(axis=-1).mean()\n",
    "\n",
    "        numeric = (loss_plus - loss_minus)/(2*eps)\n",
    "        mat_loss[i][j] = numeric - grad.mean(axis=0)[i][j]\n",
    "mat_loss.max()"
   ]
  },
  {
   "cell_type": "code",
   "execution_count": 17,
   "metadata": {},
   "outputs": [
    {
     "data": {
      "text/plain": [
       "1.186980375100788e-10"
      ]
     },
     "execution_count": 17,
     "metadata": {},
     "output_type": "execute_result"
    }
   ],
   "source": [
    "# Check the gradient calculation with tanh\n",
    "mlp = MLP(LinearLayer(784, 12),\n",
    "          TanHLayer(),\n",
    "          LinearLayer(12, 12),\n",
    "          TanHLayer(),\n",
    "          LinearLayer(12, 10),\n",
    "          SoftmaxOutputLayer(),\n",
    "          batch_size=batch_size)\n",
    "nb = 100\n",
    "layer = 0\n",
    "mlp.forward(x_train.to_numpy()[0:nb])\n",
    "labels = np.eye(10)[y_train.to_numpy()[0:nb].ravel()]\n",
    "mlp.backward(labels)\n",
    "grad = mlp.layers[layer].gradient[0]\n",
    "w = mlp.layers[layer].w\n",
    "eps = 1e-5\n",
    "\n",
    "mat_loss = np.zeros((w.shape[0],w.shape[1]))\n",
    "\n",
    "for i in range(w.shape[0]):\n",
    "    for j in range(w.shape[1]):\n",
    "        \n",
    "        w_plus = w.copy()\n",
    "        w_minus = w.copy() \n",
    "        \n",
    "        w_plus[i][j] = eps + w[i][j]\n",
    "\n",
    "        w_minus[i][j] = -eps + w[i][j]\n",
    "\n",
    "        mlp.layers[layer].w = w_plus\n",
    "        y_pred_plus = mlp.forward(x_train.to_numpy()[0:nb])\n",
    "        loss_plus = -(labels*np.log1p(y_pred_plus-1)).sum(axis=-1).mean()\n",
    "\n",
    "        mlp.layers[layer].w = w_minus\n",
    "        y_pred_minus = mlp.forward(x_train.to_numpy()[0:nb])\n",
    "        loss_minus = -(labels*np.log1p(y_pred_minus-1)).sum(axis=-1).mean()\n",
    "\n",
    "        numeric = (loss_plus - loss_minus)/(2*eps)\n",
    "        mat_loss[i][j] = numeric - grad.mean(axis=0)[i][j]\n",
    "mat_loss.max()"
   ]
  },
  {
   "cell_type": "code",
   "execution_count": 18,
   "metadata": {},
   "outputs": [
    {
     "data": {
      "text/plain": [
       "1.8600000706303632e-10"
      ]
     },
     "execution_count": 18,
     "metadata": {},
     "output_type": "execute_result"
    }
   ],
   "source": [
    "# Check the gradient calculation with Leaky ReLU\n",
    "mlp = MLP(LinearLayer(784, 12),\n",
    "          LeakyReLULayer(alpha=0.01),\n",
    "          LinearLayer(12, 12),\n",
    "          LeakyReLULayer(alpha=0.01),\n",
    "          LinearLayer(12, 10),\n",
    "          SoftmaxOutputLayer(),\n",
    "          batch_size=batch_size)\n",
    "nb = 100\n",
    "layer = 0\n",
    "mlp.forward(x_train.to_numpy()[0:nb])\n",
    "labels = np.eye(10)[y_train.to_numpy()[0:nb].ravel()]\n",
    "mlp.backward(labels)\n",
    "grad = mlp.layers[layer].gradient[0]\n",
    "w = mlp.layers[layer].w\n",
    "eps = 1e-5\n",
    "\n",
    "mat_loss = np.zeros((w.shape[0],w.shape[1]))\n",
    " \n",
    "for i in range(w.shape[0]):\n",
    "    for j in range(w.shape[1]):\n",
    "        \n",
    "        w_plus = w.copy()\n",
    "        w_minus = w.copy() \n",
    "        \n",
    "        w_plus[i][j] = eps + w[i][j]\n",
    "\n",
    "        w_minus[i][j] = -eps + w[i][j]\n",
    "\n",
    "        mlp.layers[layer].w = w_plus\n",
    "        y_pred_plus = mlp.forward(x_train.to_numpy()[0:nb])\n",
    "        loss_plus = -(labels*np.log1p(y_pred_plus-1)).sum(axis=-1).mean()\n",
    "\n",
    "        mlp.layers[layer].w = w_minus\n",
    "        y_pred_minus = mlp.forward(x_train.to_numpy()[0:nb])\n",
    "        loss_minus = -(labels*np.log1p(y_pred_minus-1)).sum(axis=-1).mean()\n",
    "\n",
    "        numeric = (loss_plus - loss_minus)/(2*eps)\n",
    "        mat_loss[i][j] = numeric - grad.mean(axis=0)[i][j]\n",
    "mat_loss.max()"
   ]
  },
  {
   "cell_type": "markdown",
   "metadata": {
    "id": "cF6AABv-LduN"
   },
   "source": [
    "# Different MLP Implementations"
   ]
  },
  {
   "cell_type": "markdown",
   "metadata": {
    "id": "CPxUWsBlKEcu"
   },
   "source": [
    "## Model 1: MLP with no hidden layer"
   ]
  },
  {
   "cell_type": "code",
   "execution_count": 76,
   "metadata": {
    "colab": {
     "base_uri": "https://localhost:8080/",
     "height": 354
    },
    "id": "LNaBcAjUKV5Q",
    "outputId": "ccd59d88-f3f8-4150-9364-86c417c927ca",
    "scrolled": false
   },
   "outputs": [
    {
     "name": "stderr",
     "output_type": "stream",
     "text": [
      "  7%|▋         | 1/15 [00:02<00:28,  2.02s/it]"
     ]
    },
    {
     "name": "stdout",
     "output_type": "stream",
     "text": [
      "epoch 1 |loss_train 0.5738821487161382 |accu-train 0.798 |accu-test 0.7888\n"
     ]
    },
    {
     "name": "stderr",
     "output_type": "stream",
     "text": [
      "\r",
      " 13%|█▎        | 2/15 [00:03<00:25,  1.95s/it]"
     ]
    },
    {
     "name": "stdout",
     "output_type": "stream",
     "text": [
      "epoch 2 |loss_train 0.5153090533507478 |accu-train 0.8210833333333334 |accu-test 0.8099\n"
     ]
    },
    {
     "name": "stderr",
     "output_type": "stream",
     "text": [
      "\r",
      " 20%|██        | 3/15 [00:05<00:23,  1.93s/it]"
     ]
    },
    {
     "name": "stdout",
     "output_type": "stream",
     "text": [
      "epoch 3 |loss_train 0.4881590261845473 |accu-train 0.8314 |accu-test 0.8208\n"
     ]
    },
    {
     "name": "stderr",
     "output_type": "stream",
     "text": [
      "\r",
      " 27%|██▋       | 4/15 [00:07<00:20,  1.90s/it]"
     ]
    },
    {
     "name": "stdout",
     "output_type": "stream",
     "text": [
      "epoch 4 |loss_train 0.4726010522428041 |accu-train 0.8372166666666667 |accu-test 0.8259\n"
     ]
    },
    {
     "name": "stderr",
     "output_type": "stream",
     "text": [
      "\r",
      " 33%|███▎      | 5/15 [00:09<00:18,  1.87s/it]"
     ]
    },
    {
     "name": "stdout",
     "output_type": "stream",
     "text": [
      "epoch 5 |loss_train 0.46115822281450664 |accu-train 0.8407166666666667 |accu-test 0.8265\n"
     ]
    },
    {
     "name": "stderr",
     "output_type": "stream",
     "text": [
      "\r",
      " 40%|████      | 6/15 [00:11<00:16,  1.86s/it]"
     ]
    },
    {
     "name": "stdout",
     "output_type": "stream",
     "text": [
      "epoch 6 |loss_train 0.4544043644533785 |accu-train 0.8429333333333333 |accu-test 0.828\n"
     ]
    },
    {
     "name": "stderr",
     "output_type": "stream",
     "text": [
      "\r",
      " 47%|████▋     | 7/15 [00:13<00:14,  1.87s/it]"
     ]
    },
    {
     "name": "stdout",
     "output_type": "stream",
     "text": [
      "epoch 7 |loss_train 0.44450293341096014 |accu-train 0.84705 |accu-test 0.8322\n"
     ]
    },
    {
     "name": "stderr",
     "output_type": "stream",
     "text": [
      "\r",
      " 53%|█████▎    | 8/15 [00:15<00:13,  1.87s/it]"
     ]
    },
    {
     "name": "stdout",
     "output_type": "stream",
     "text": [
      "epoch 8 |loss_train 0.44286741025845344 |accu-train 0.8473166666666667 |accu-test 0.832\n"
     ]
    },
    {
     "name": "stderr",
     "output_type": "stream",
     "text": [
      "\r",
      " 60%|██████    | 9/15 [00:16<00:11,  1.86s/it]"
     ]
    },
    {
     "name": "stdout",
     "output_type": "stream",
     "text": [
      "epoch 9 |loss_train 0.4350414277917906 |accu-train 0.8503166666666667 |accu-test 0.8344\n"
     ]
    },
    {
     "name": "stderr",
     "output_type": "stream",
     "text": [
      "\r",
      " 67%|██████▋   | 10/15 [00:18<00:09,  1.86s/it]"
     ]
    },
    {
     "name": "stdout",
     "output_type": "stream",
     "text": [
      "epoch 10 |loss_train 0.4310670569184855 |accu-train 0.8518 |accu-test 0.8357\n"
     ]
    },
    {
     "name": "stderr",
     "output_type": "stream",
     "text": [
      "\r",
      " 73%|███████▎  | 11/15 [00:20<00:07,  1.85s/it]"
     ]
    },
    {
     "name": "stdout",
     "output_type": "stream",
     "text": [
      "epoch 11 |loss_train 0.42822479705199773 |accu-train 0.8529166666666667 |accu-test 0.8334\n"
     ]
    },
    {
     "name": "stderr",
     "output_type": "stream",
     "text": [
      "\r",
      " 80%|████████  | 12/15 [00:22<00:05,  1.82s/it]"
     ]
    },
    {
     "name": "stdout",
     "output_type": "stream",
     "text": [
      "epoch 12 |loss_train 0.42472475732902265 |accu-train 0.8537 |accu-test 0.8359\n"
     ]
    },
    {
     "name": "stderr",
     "output_type": "stream",
     "text": [
      "\r",
      " 87%|████████▋ | 13/15 [00:24<00:03,  1.82s/it]"
     ]
    },
    {
     "name": "stdout",
     "output_type": "stream",
     "text": [
      "epoch 13 |loss_train 0.42272933625708836 |accu-train 0.8552 |accu-test 0.8378\n"
     ]
    },
    {
     "name": "stderr",
     "output_type": "stream",
     "text": [
      "\r",
      " 93%|█████████▎| 14/15 [00:25<00:01,  1.79s/it]"
     ]
    },
    {
     "name": "stdout",
     "output_type": "stream",
     "text": [
      "epoch 14 |loss_train 0.4187370916204496 |accu-train 0.8569166666666667 |accu-test 0.8369\n"
     ]
    },
    {
     "name": "stderr",
     "output_type": "stream",
     "text": [
      "100%|██████████| 15/15 [00:27<00:00,  1.85s/it]"
     ]
    },
    {
     "name": "stdout",
     "output_type": "stream",
     "text": [
      "epoch 15 |loss_train 0.41711993863833136 |accu-train 0.8562833333333333 |accu-test 0.8381\n"
     ]
    },
    {
     "name": "stderr",
     "output_type": "stream",
     "text": [
      "\n"
     ]
    },
    {
     "data": {
      "image/png": "[encoded data removed]",
      "text/plain": [
       "<Figure size 432x288 with 1 Axes>"
      ]
     },
     "metadata": {
      "needs_background": "light"
     },
     "output_type": "display_data"
    }
   ],
   "source": [
    "# Train the model\n",
    "hidden_layers_size = 10\n",
    "input_size = x_train.shape[1]\n",
    "nb_labels = len(class_name)\n",
    "mlp1 = MLP(LinearLayer(input_size, hidden_layers_size), \n",
    "    SoftmaxOutputLayer(), batch_size=128)\n",
    "opt = StochasticGradientDescentOptimizer(mlp1, 0.01)\n",
    "epoch = 15\n",
    "mlp1.fit(opt, x_train.to_numpy(), y_train.to_numpy().ravel(), x_test.to_numpy(), y_test.to_numpy().ravel(), epoch, nb_labels)"
   ]
  },
  {
   "cell_type": "code",
   "execution_count": 77,
   "metadata": {},
   "outputs": [],
   "source": [
    "# Predict on the train dataset\n",
    "y_pred_train_model1 = mlp1.predict(x_train.to_numpy())"
   ]
  },
  {
   "cell_type": "code",
   "execution_count": 78,
   "metadata": {},
   "outputs": [
    {
     "name": "stdout",
     "output_type": "stream",
     "text": [
      "Multiclass accuracy (train): 85.63 %\n"
     ]
    }
   ],
   "source": [
    "# Print the accuracy on the train dataset\n",
    "print('Multiclass accuracy (train):', round(mlp1.multiclass_accuracy(y_train.to_numpy().ravel(),y_pred_train_model1, nb_labels)*100,2), '%')"
   ]
  },
  {
   "cell_type": "code",
   "execution_count": 79,
   "metadata": {
    "id": "OvrQQ4RgKV7p"
   },
   "outputs": [],
   "source": [
    "# Predict on the test dataset\n",
    "y_pred_test_model1 = mlp1.predict(x_test.to_numpy())"
   ]
  },
  {
   "cell_type": "code",
   "execution_count": 80,
   "metadata": {},
   "outputs": [
    {
     "name": "stdout",
     "output_type": "stream",
     "text": [
      "Multiclass accuracy (test): 83.81 %\n"
     ]
    }
   ],
   "source": [
    "# Print the accuracy on the test dataset\n",
    "print('Multiclass accuracy (test):', round(mlp1.multiclass_accuracy(y_test.to_numpy().ravel(),y_pred_test_model1, nb_labels)*100,2), '%')"
   ]
  },
  {
   "cell_type": "code",
   "execution_count": 81,
   "metadata": {},
   "outputs": [
    {
     "data": {
      "image/png": "[encoded data removed]",
      "text/plain": [
       "<Figure size 432x288 with 1 Axes>"
      ]
     },
     "metadata": {
      "needs_background": "light"
     },
     "output_type": "display_data"
    }
   ],
   "source": [
    "# Plot the evolution of the accuracy over the epochs\n",
    "plt.plot(mlp1.epoch_accuracy_train, label = \"accuracy on the train set\")\n",
    "plt.plot(mlp1.epoch_accuracy_test, label = \"accuracy on the test set\")\n",
    "plt.legend(loc = 0)\n",
    "plt.xlabel(\"Epoch\")\n",
    "plt.ylabel(\"Accuracy\")\n",
    "plt.show()"
   ]
  },
  {
   "cell_type": "markdown",
   "metadata": {
    "id": "cuhzoeUqKWLK"
   },
   "source": [
    "## Model 2: MLP with a single hidden layer having 128 units and ReLU activations"
   ]
  },
  {
   "cell_type": "code",
   "execution_count": 82,
   "metadata": {
    "colab": {
     "base_uri": "https://localhost:8080/"
    },
    "id": "vIHVd3YnKjnP",
    "outputId": "b792a88d-b961-4e78-f7ae-ade82196b5a1",
    "scrolled": true
   },
   "outputs": [
    {
     "name": "stderr",
     "output_type": "stream",
     "text": [
      "  7%|▋         | 1/15 [00:18<04:17, 18.41s/it]"
     ]
    },
    {
     "name": "stdout",
     "output_type": "stream",
     "text": [
      "epoch 1 |loss_train 0.5462793757400122 |accu-train 0.8065666666666667 |accu-test 0.7947\n"
     ]
    },
    {
     "name": "stderr",
     "output_type": "stream",
     "text": [
      "\r",
      " 13%|█▎        | 2/15 [00:36<03:59, 18.43s/it]"
     ]
    },
    {
     "name": "stdout",
     "output_type": "stream",
     "text": [
      "epoch 2 |loss_train 0.47438979494052935 |accu-train 0.83425 |accu-test 0.8188\n"
     ]
    },
    {
     "name": "stderr",
     "output_type": "stream",
     "text": [
      "\r",
      " 20%|██        | 3/15 [00:55<03:39, 18.32s/it]"
     ]
    },
    {
     "name": "stdout",
     "output_type": "stream",
     "text": [
      "epoch 3 |loss_train 0.44325144945226 |accu-train 0.84355 |accu-test 0.8292\n"
     ]
    },
    {
     "name": "stderr",
     "output_type": "stream",
     "text": [
      "\r",
      " 27%|██▋       | 4/15 [01:13<03:20, 18.23s/it]"
     ]
    },
    {
     "name": "stdout",
     "output_type": "stream",
     "text": [
      "epoch 4 |loss_train 0.42556766458659595 |accu-train 0.8497833333333333 |accu-test 0.8364\n"
     ]
    },
    {
     "name": "stderr",
     "output_type": "stream",
     "text": [
      "\r",
      " 33%|███▎      | 5/15 [01:32<03:05, 18.57s/it]"
     ]
    },
    {
     "name": "stdout",
     "output_type": "stream",
     "text": [
      "epoch 5 |loss_train 0.4060540951441106 |accu-train 0.8569666666666667 |accu-test 0.841\n"
     ]
    },
    {
     "name": "stderr",
     "output_type": "stream",
     "text": [
      "\r",
      " 40%|████      | 6/15 [01:52<02:50, 18.96s/it]"
     ]
    },
    {
     "name": "stdout",
     "output_type": "stream",
     "text": [
      "epoch 6 |loss_train 0.39470700839526446 |accu-train 0.8607666666666667 |accu-test 0.8455\n"
     ]
    },
    {
     "name": "stderr",
     "output_type": "stream",
     "text": [
      "\r",
      " 47%|████▋     | 7/15 [02:11<02:32, 19.10s/it]"
     ]
    },
    {
     "name": "stdout",
     "output_type": "stream",
     "text": [
      "epoch 7 |loss_train 0.39115184643614 |accu-train 0.86005 |accu-test 0.842\n"
     ]
    },
    {
     "name": "stderr",
     "output_type": "stream",
     "text": [
      "\r",
      " 53%|█████▎    | 8/15 [02:30<02:12, 18.98s/it]"
     ]
    },
    {
     "name": "stdout",
     "output_type": "stream",
     "text": [
      "epoch 8 |loss_train 0.37801284874656516 |accu-train 0.8643333333333333 |accu-test 0.8461\n"
     ]
    },
    {
     "name": "stderr",
     "output_type": "stream",
     "text": [
      "\r",
      " 60%|██████    | 9/15 [02:49<01:54, 19.02s/it]"
     ]
    },
    {
     "name": "stdout",
     "output_type": "stream",
     "text": [
      "epoch 9 |loss_train 0.3708840139123451 |accu-train 0.8682666666666666 |accu-test 0.851\n"
     ]
    },
    {
     "name": "stderr",
     "output_type": "stream",
     "text": [
      "\r",
      " 67%|██████▋   | 10/15 [03:07<01:34, 18.83s/it]"
     ]
    },
    {
     "name": "stdout",
     "output_type": "stream",
     "text": [
      "epoch 10 |loss_train 0.36059996202760036 |accu-train 0.8714 |accu-test 0.8539\n"
     ]
    },
    {
     "name": "stderr",
     "output_type": "stream",
     "text": [
      "\r",
      " 73%|███████▎  | 11/15 [03:25<01:14, 18.58s/it]"
     ]
    },
    {
     "name": "stdout",
     "output_type": "stream",
     "text": [
      "epoch 11 |loss_train 0.3547051301829344 |accu-train 0.87375 |accu-test 0.8555\n"
     ]
    },
    {
     "name": "stderr",
     "output_type": "stream",
     "text": [
      "\r",
      " 80%|████████  | 12/15 [03:43<00:55, 18.47s/it]"
     ]
    },
    {
     "name": "stdout",
     "output_type": "stream",
     "text": [
      "epoch 12 |loss_train 0.34916045180783983 |accu-train 0.8755833333333334 |accu-test 0.8576\n"
     ]
    },
    {
     "name": "stderr",
     "output_type": "stream",
     "text": [
      "\r",
      " 87%|████████▋ | 13/15 [04:01<00:36, 18.30s/it]"
     ]
    },
    {
     "name": "stdout",
     "output_type": "stream",
     "text": [
      "epoch 13 |loss_train 0.34167019261397047 |accu-train 0.8782833333333333 |accu-test 0.8584\n"
     ]
    },
    {
     "name": "stderr",
     "output_type": "stream",
     "text": [
      "\r",
      " 93%|█████████▎| 14/15 [04:19<00:18, 18.25s/it]"
     ]
    },
    {
     "name": "stdout",
     "output_type": "stream",
     "text": [
      "epoch 14 |loss_train 0.33770485862432215 |accu-train 0.88055 |accu-test 0.8588\n"
     ]
    },
    {
     "name": "stderr",
     "output_type": "stream",
     "text": [
      "100%|██████████| 15/15 [04:37<00:00, 18.53s/it]"
     ]
    },
    {
     "name": "stdout",
     "output_type": "stream",
     "text": [
      "epoch 15 |loss_train 0.3355666177631649 |accu-train 0.881 |accu-test 0.8617\n"
     ]
    },
    {
     "name": "stderr",
     "output_type": "stream",
     "text": [
      "\n"
     ]
    },
    {
     "data": {
      "image/png": "[encoded data removed]",
      "text/plain": [
       "<Figure size 432x288 with 1 Axes>"
      ]
     },
     "metadata": {
      "needs_background": "light"
     },
     "output_type": "display_data"
    }
   ],
   "source": [
    "# Train the model\n",
    "hidden_layers_size = 128\n",
    "input_size = x_train.shape[1]\n",
    "nb_labels = len(class_name)\n",
    "mlp2 = MLP(LinearLayer(input_size, hidden_layers_size), \n",
    "    ReLULayer(),\n",
    "    LinearLayer(hidden_layers_size, nb_labels),\n",
    "    SoftmaxOutputLayer(),\n",
    "    batch_size=128)\n",
    "opt = StochasticGradientDescentOptimizer(mlp2, 0.01)\n",
    "epoch = 15\n",
    "mlp2.fit(opt, x_train.to_numpy(), y_train.to_numpy().ravel(), x_test.to_numpy(), y_test.to_numpy().ravel(), epoch, nb_labels)"
   ]
  },
  {
   "cell_type": "code",
   "execution_count": 83,
   "metadata": {},
   "outputs": [],
   "source": [
    "# Predict on the train dataset\n",
    "y_pred_train_model2 = mlp2.predict(x_train.to_numpy())"
   ]
  },
  {
   "cell_type": "code",
   "execution_count": 84,
   "metadata": {},
   "outputs": [
    {
     "name": "stdout",
     "output_type": "stream",
     "text": [
      "Multiclass accuracy (train): 88.1 %\n"
     ]
    }
   ],
   "source": [
    "# Print the accuracy on the train dataset\n",
    "print('Multiclass accuracy (train):', round(mlp2.multiclass_accuracy(y_train.to_numpy().ravel(),y_pred_train_model2, nb_labels)*100,2), '%')"
   ]
  },
  {
   "cell_type": "code",
   "execution_count": 85,
   "metadata": {
    "id": "sa3edYpiUMPk"
   },
   "outputs": [],
   "source": [
    "# Predict on the test dataset\n",
    "y_pred_test_model2 = mlp2.predict(x_test.to_numpy())"
   ]
  },
  {
   "cell_type": "code",
   "execution_count": 86,
   "metadata": {
    "id": "TUAB9Ct9KjpY"
   },
   "outputs": [
    {
     "name": "stdout",
     "output_type": "stream",
     "text": [
      "Multiclass accuracy (test): 86.17 %\n"
     ]
    }
   ],
   "source": [
    "# Print the accuracy on the test dataset\n",
    "print('Multiclass accuracy (test):', round(mlp2.multiclass_accuracy(y_test.to_numpy().ravel(),y_pred_test_model2, nb_labels)*100,2), '%')"
   ]
  },
  {
   "cell_type": "code",
   "execution_count": 87,
   "metadata": {},
   "outputs": [
    {
     "data": {
      "image/png": "[encoded data removed]",
      "text/plain": [
       "<Figure size 432x288 with 1 Axes>"
      ]
     },
     "metadata": {
      "needs_background": "light"
     },
     "output_type": "display_data"
    }
   ],
   "source": [
    "# Plot the evolution of the accuracy over the epochs\n",
    "plt.plot(mlp2.epoch_accuracy_train, label = \"accuracy on the train set\")\n",
    "plt.plot(mlp2.epoch_accuracy_test, label = \"accuracy on the test set\")\n",
    "plt.legend(loc = 0)\n",
    "plt.xlabel(\"Epoch\")\n",
    "plt.ylabel(\"Accuracy\")\n",
    "plt.show()"
   ]
  },
  {
   "cell_type": "markdown",
   "metadata": {
    "id": "eI4NwZxzKjwh"
   },
   "source": [
    "## Model 3: MLP with 2 hidden layers each having 128 units with ReLU activations."
   ]
  },
  {
   "cell_type": "code",
   "execution_count": 88,
   "metadata": {
    "colab": {
     "base_uri": "https://localhost:8080/",
     "height": 297
    },
    "id": "YAZZnJqnKq88",
    "outputId": "4b1b512b-ce98-47bc-fecd-3ffca4f67c38"
   },
   "outputs": [
    {
     "name": "stderr",
     "output_type": "stream",
     "text": [
      "  7%|▋         | 1/15 [00:21<04:56, 21.20s/it]"
     ]
    },
    {
     "name": "stdout",
     "output_type": "stream",
     "text": [
      "epoch 1 |loss_train 0.5064841235779048 |accu-train 0.8214666666666667 |accu-test 0.8126\n"
     ]
    },
    {
     "name": "stderr",
     "output_type": "stream",
     "text": [
      "\r",
      " 13%|█▎        | 2/15 [00:44<04:52, 22.52s/it]"
     ]
    },
    {
     "name": "stdout",
     "output_type": "stream",
     "text": [
      "epoch 2 |loss_train 0.455909130616047 |accu-train 0.8351333333333333 |accu-test 0.8241\n"
     ]
    },
    {
     "name": "stderr",
     "output_type": "stream",
     "text": [
      "\r",
      " 20%|██        | 3/15 [01:06<04:28, 22.39s/it]"
     ]
    },
    {
     "name": "stdout",
     "output_type": "stream",
     "text": [
      "epoch 3 |loss_train 0.4130754183479359 |accu-train 0.8532833333333333 |accu-test 0.8406\n"
     ]
    },
    {
     "name": "stderr",
     "output_type": "stream",
     "text": [
      "\r",
      " 27%|██▋       | 4/15 [01:29<04:07, 22.52s/it]"
     ]
    },
    {
     "name": "stdout",
     "output_type": "stream",
     "text": [
      "epoch 4 |loss_train 0.39108740051986235 |accu-train 0.8621833333333333 |accu-test 0.8479\n"
     ]
    },
    {
     "name": "stderr",
     "output_type": "stream",
     "text": [
      "\r",
      " 33%|███▎      | 5/15 [01:52<03:46, 22.62s/it]"
     ]
    },
    {
     "name": "stdout",
     "output_type": "stream",
     "text": [
      "epoch 5 |loss_train 0.37276878240791433 |accu-train 0.8673333333333333 |accu-test 0.8516\n"
     ]
    },
    {
     "name": "stderr",
     "output_type": "stream",
     "text": [
      "\r",
      " 40%|████      | 6/15 [02:14<03:21, 22.39s/it]"
     ]
    },
    {
     "name": "stdout",
     "output_type": "stream",
     "text": [
      "epoch 6 |loss_train 0.375724926723486 |accu-train 0.86505 |accu-test 0.8482\n"
     ]
    },
    {
     "name": "stderr",
     "output_type": "stream",
     "text": [
      "\r",
      " 47%|████▋     | 7/15 [02:36<02:59, 22.48s/it]"
     ]
    },
    {
     "name": "stdout",
     "output_type": "stream",
     "text": [
      "epoch 7 |loss_train 0.3546301914651064 |accu-train 0.8743833333333333 |accu-test 0.8561\n"
     ]
    },
    {
     "name": "stderr",
     "output_type": "stream",
     "text": [
      "\r",
      " 53%|█████▎    | 8/15 [02:58<02:36, 22.32s/it]"
     ]
    },
    {
     "name": "stdout",
     "output_type": "stream",
     "text": [
      "epoch 8 |loss_train 0.3396676985936484 |accu-train 0.8791833333333333 |accu-test 0.86\n"
     ]
    },
    {
     "name": "stderr",
     "output_type": "stream",
     "text": [
      "\r",
      " 60%|██████    | 9/15 [03:20<02:12, 22.03s/it]"
     ]
    },
    {
     "name": "stdout",
     "output_type": "stream",
     "text": [
      "epoch 9 |loss_train 0.3469020497116813 |accu-train 0.8750833333333333 |accu-test 0.8567\n"
     ]
    },
    {
     "name": "stderr",
     "output_type": "stream",
     "text": [
      "\r",
      " 67%|██████▋   | 10/15 [03:42<01:49, 21.91s/it]"
     ]
    },
    {
     "name": "stdout",
     "output_type": "stream",
     "text": [
      "epoch 10 |loss_train 0.3337416091513197 |accu-train 0.88 |accu-test 0.861\n"
     ]
    },
    {
     "name": "stderr",
     "output_type": "stream",
     "text": [
      "\r",
      " 73%|███████▎  | 11/15 [04:06<01:30, 22.63s/it]"
     ]
    },
    {
     "name": "stdout",
     "output_type": "stream",
     "text": [
      "epoch 11 |loss_train 0.3281081327754745 |accu-train 0.88205 |accu-test 0.864\n"
     ]
    },
    {
     "name": "stderr",
     "output_type": "stream",
     "text": [
      "\r",
      " 80%|████████  | 12/15 [04:30<01:09, 23.06s/it]"
     ]
    },
    {
     "name": "stdout",
     "output_type": "stream",
     "text": [
      "epoch 12 |loss_train 0.3170724291235374 |accu-train 0.8864166666666666 |accu-test 0.8654\n"
     ]
    },
    {
     "name": "stderr",
     "output_type": "stream",
     "text": [
      "\r",
      " 87%|████████▋ | 13/15 [04:53<00:46, 23.10s/it]"
     ]
    },
    {
     "name": "stdout",
     "output_type": "stream",
     "text": [
      "epoch 13 |loss_train 0.313343097484351 |accu-train 0.8884666666666666 |accu-test 0.8657\n"
     ]
    },
    {
     "name": "stderr",
     "output_type": "stream",
     "text": [
      "\r",
      " 93%|█████████▎| 14/15 [05:15<00:22, 22.76s/it]"
     ]
    },
    {
     "name": "stdout",
     "output_type": "stream",
     "text": [
      "epoch 14 |loss_train 0.30165464001546044 |accu-train 0.8922833333333333 |accu-test 0.8705\n"
     ]
    },
    {
     "name": "stderr",
     "output_type": "stream",
     "text": [
      "100%|██████████| 15/15 [05:38<00:00, 22.56s/it]"
     ]
    },
    {
     "name": "stdout",
     "output_type": "stream",
     "text": [
      "epoch 15 |loss_train 0.29748736472047305 |accu-train 0.89315 |accu-test 0.8707\n"
     ]
    },
    {
     "name": "stderr",
     "output_type": "stream",
     "text": [
      "\n"
     ]
    },
    {
     "data": {
      "image/png": "[encoded data removed]",
      "text/plain": [
       "<Figure size 432x288 with 1 Axes>"
      ]
     },
     "metadata": {
      "needs_background": "light"
     },
     "output_type": "display_data"
    }
   ],
   "source": [
    "# Train the model\n",
    "hidden_layers_size = 128\n",
    "input_size = x_train.shape[1]\n",
    "nb_labels = len(class_name)\n",
    "mlp3 = MLP(LinearLayer(input_size, hidden_layers_size), \n",
    "    ReLULayer(),\n",
    "    LinearLayer(hidden_layers_size, hidden_layers_size),\n",
    "    ReLULayer(),\n",
    "    LinearLayer(hidden_layers_size, nb_labels),\n",
    "    SoftmaxOutputLayer(),\n",
    "        batch_size=128)\n",
    "opt = StochasticGradientDescentOptimizer(mlp3, 0.01)\n",
    "epoch = 15\n",
    "mlp3.fit(opt, x_train.to_numpy(), y_train.to_numpy().ravel(), x_test.to_numpy(), y_test.to_numpy().ravel(), epoch, nb_labels)"
   ]
  },
  {
   "cell_type": "code",
   "execution_count": 89,
   "metadata": {},
   "outputs": [],
   "source": [
    "# Predict on the train dataset\n",
    "y_pred_train_model3 = mlp3.predict(x_train.to_numpy())"
   ]
  },
  {
   "cell_type": "code",
   "execution_count": 90,
   "metadata": {},
   "outputs": [
    {
     "name": "stdout",
     "output_type": "stream",
     "text": [
      "Multiclass accuracy (train): 89.32 %\n"
     ]
    }
   ],
   "source": [
    "# Print the accuracy on the train dataset\n",
    "print('Multiclass accuracy (train):', round(mlp3.multiclass_accuracy(y_train.to_numpy().ravel(),y_pred_train_model3, nb_labels)*100,2), '%')"
   ]
  },
  {
   "cell_type": "code",
   "execution_count": 91,
   "metadata": {},
   "outputs": [],
   "source": [
    "# Predict on the test dataset\n",
    "y_pred_test_model3 = mlp3.predict(x_test.to_numpy())"
   ]
  },
  {
   "cell_type": "code",
   "execution_count": 92,
   "metadata": {},
   "outputs": [
    {
     "name": "stdout",
     "output_type": "stream",
     "text": [
      "Multiclass accuracy (train): 87.07 %\n"
     ]
    }
   ],
   "source": [
    "# Print the accuracy on the test dataset\n",
    "print('Multiclass accuracy (train):', round(mlp3.multiclass_accuracy(y_test.to_numpy().ravel(),y_pred_test_model3, nb_labels)*100,2), '%')"
   ]
  },
  {
   "cell_type": "code",
   "execution_count": 93,
   "metadata": {},
   "outputs": [
    {
     "data": {
      "image/png": "[encoded data removed]",
      "text/plain": [
       "<Figure size 432x288 with 1 Axes>"
      ]
     },
     "metadata": {
      "needs_background": "light"
     },
     "output_type": "display_data"
    }
   ],
   "source": [
    "# Plot the evolution of the accuracy over the epochs\n",
    "plt.plot(mlp3.epoch_accuracy_train, label = \"accuracy on the train set\")\n",
    "plt.plot(mlp3.epoch_accuracy_test, label = \"accuracy on the test set\")\n",
    "plt.legend(loc = 0)\n",
    "plt.xlabel(\"Epoch\")\n",
    "plt.ylabel(\"Accuracy\")\n",
    "plt.show()"
   ]
  },
  {
   "cell_type": "markdown",
   "metadata": {},
   "source": [
    "# Models with different activation functions"
   ]
  },
  {
   "cell_type": "markdown",
   "metadata": {
    "id": "zH1qFyA8NoRn"
   },
   "source": [
    "### Model 4 MLP with TanH activation function"
   ]
  },
  {
   "cell_type": "code",
   "execution_count": 94,
   "metadata": {
    "id": "Ok7v5Di4NCO3"
   },
   "outputs": [
    {
     "name": "stderr",
     "output_type": "stream",
     "text": [
      "  7%|▋         | 1/15 [00:28<06:41, 28.69s/it]"
     ]
    },
    {
     "name": "stdout",
     "output_type": "stream",
     "text": [
      "epoch 1 |loss_train 0.5033997568461627 |accu-train 0.8222833333333334 |accu-test 0.8124\n"
     ]
    },
    {
     "name": "stderr",
     "output_type": "stream",
     "text": [
      "\r",
      " 13%|█▎        | 2/15 [00:58<06:24, 29.59s/it]"
     ]
    },
    {
     "name": "stdout",
     "output_type": "stream",
     "text": [
      "epoch 2 |loss_train 0.4316919790361971 |accu-train 0.84605 |accu-test 0.8335\n"
     ]
    },
    {
     "name": "stderr",
     "output_type": "stream",
     "text": [
      "\r",
      " 20%|██        | 3/15 [01:28<05:55, 29.60s/it]"
     ]
    },
    {
     "name": "stdout",
     "output_type": "stream",
     "text": [
      "epoch 3 |loss_train 0.3931051478401096 |accu-train 0.8602166666666666 |accu-test 0.8445\n"
     ]
    },
    {
     "name": "stderr",
     "output_type": "stream",
     "text": [
      "\r",
      " 27%|██▋       | 4/15 [01:57<05:21, 29.25s/it]"
     ]
    },
    {
     "name": "stdout",
     "output_type": "stream",
     "text": [
      "epoch 4 |loss_train 0.37219499570406245 |accu-train 0.8661833333333333 |accu-test 0.8491\n"
     ]
    },
    {
     "name": "stderr",
     "output_type": "stream",
     "text": [
      "\r",
      " 33%|███▎      | 5/15 [02:26<04:53, 29.34s/it]"
     ]
    },
    {
     "name": "stdout",
     "output_type": "stream",
     "text": [
      "epoch 5 |loss_train 0.35265474593804264 |accu-train 0.8728833333333333 |accu-test 0.8542\n"
     ]
    },
    {
     "name": "stderr",
     "output_type": "stream",
     "text": [
      "\r",
      " 40%|████      | 6/15 [02:56<04:25, 29.48s/it]"
     ]
    },
    {
     "name": "stdout",
     "output_type": "stream",
     "text": [
      "epoch 6 |loss_train 0.3383951320357959 |accu-train 0.87875 |accu-test 0.8605\n"
     ]
    },
    {
     "name": "stderr",
     "output_type": "stream",
     "text": [
      "\r",
      " 47%|████▋     | 7/15 [03:24<03:53, 29.16s/it]"
     ]
    },
    {
     "name": "stdout",
     "output_type": "stream",
     "text": [
      "epoch 7 |loss_train 0.3265452913083749 |accu-train 0.8838166666666667 |accu-test 0.8635\n"
     ]
    },
    {
     "name": "stderr",
     "output_type": "stream",
     "text": [
      "\r",
      " 53%|█████▎    | 8/15 [03:53<03:21, 28.85s/it]"
     ]
    },
    {
     "name": "stdout",
     "output_type": "stream",
     "text": [
      "epoch 8 |loss_train 0.31625277046410855 |accu-train 0.8868833333333334 |accu-test 0.8676\n"
     ]
    },
    {
     "name": "stderr",
     "output_type": "stream",
     "text": [
      "\r",
      " 60%|██████    | 9/15 [04:22<02:53, 28.97s/it]"
     ]
    },
    {
     "name": "stdout",
     "output_type": "stream",
     "text": [
      "epoch 9 |loss_train 0.30766144633968634 |accu-train 0.8894666666666666 |accu-test 0.8665\n"
     ]
    },
    {
     "name": "stderr",
     "output_type": "stream",
     "text": [
      "\r",
      " 67%|██████▋   | 10/15 [04:50<02:23, 28.79s/it]"
     ]
    },
    {
     "name": "stdout",
     "output_type": "stream",
     "text": [
      "epoch 10 |loss_train 0.30535189132004537 |accu-train 0.8894666666666666 |accu-test 0.8683\n"
     ]
    },
    {
     "name": "stderr",
     "output_type": "stream",
     "text": [
      "\r",
      " 73%|███████▎  | 11/15 [05:18<01:53, 28.32s/it]"
     ]
    },
    {
     "name": "stdout",
     "output_type": "stream",
     "text": [
      "epoch 11 |loss_train 0.2905317728358958 |accu-train 0.8953 |accu-test 0.872\n"
     ]
    },
    {
     "name": "stderr",
     "output_type": "stream",
     "text": [
      "\r",
      " 80%|████████  | 12/15 [05:44<01:23, 27.71s/it]"
     ]
    },
    {
     "name": "stdout",
     "output_type": "stream",
     "text": [
      "epoch 12 |loss_train 0.28417131817282365 |accu-train 0.89855 |accu-test 0.8738\n"
     ]
    },
    {
     "name": "stderr",
     "output_type": "stream",
     "text": [
      "\r",
      " 87%|████████▋ | 13/15 [06:11<00:54, 27.50s/it]"
     ]
    },
    {
     "name": "stdout",
     "output_type": "stream",
     "text": [
      "epoch 13 |loss_train 0.2787246020718903 |accu-train 0.9003166666666667 |accu-test 0.8757\n"
     ]
    },
    {
     "name": "stderr",
     "output_type": "stream",
     "text": [
      "\r",
      " 93%|█████████▎| 14/15 [06:38<00:27, 27.39s/it]"
     ]
    },
    {
     "name": "stdout",
     "output_type": "stream",
     "text": [
      "epoch 14 |loss_train 0.2794637059531875 |accu-train 0.8987833333333334 |accu-test 0.8706\n"
     ]
    },
    {
     "name": "stderr",
     "output_type": "stream",
     "text": [
      "100%|██████████| 15/15 [07:06<00:00, 28.41s/it]"
     ]
    },
    {
     "name": "stdout",
     "output_type": "stream",
     "text": [
      "epoch 15 |loss_train 0.2677447801820594 |accu-train 0.9033166666666667 |accu-test 0.8754\n"
     ]
    },
    {
     "name": "stderr",
     "output_type": "stream",
     "text": [
      "\n"
     ]
    },
    {
     "data": {
      "image/png": "[encoded data removed]",
      "text/plain": [
       "<Figure size 432x288 with 1 Axes>"
      ]
     },
     "metadata": {
      "needs_background": "light"
     },
     "output_type": "display_data"
    }
   ],
   "source": [
    "# Train the model\n",
    "hidden_layers_size = 128\n",
    "input_size = x_train.shape[1]\n",
    "nb_labels = len(class_name)\n",
    "mlp4 = MLP(LinearLayer(input_size, hidden_layers_size), \n",
    "    TanHLayer(),\n",
    "    LinearLayer(hidden_layers_size, hidden_layers_size),\n",
    "    TanHLayer(),\n",
    "    LinearLayer(hidden_layers_size, nb_labels),\n",
    "    SoftmaxOutputLayer(),\n",
    "          batch_size=64)\n",
    "opt = StochasticGradientDescentOptimizer(mlp4, 0.01)\n",
    "epoch = 15\n",
    "mlp4.fit(opt, x_train.to_numpy(), y_train.to_numpy().ravel(), x_test.to_numpy(), y_test.to_numpy().ravel(), epoch, nb_labels)"
   ]
  },
  {
   "cell_type": "code",
   "execution_count": 95,
   "metadata": {},
   "outputs": [],
   "source": [
    "# Predict on the train dataset\n",
    "y_pred_train_model4 = mlp4.predict(x_train.to_numpy())"
   ]
  },
  {
   "cell_type": "code",
   "execution_count": 96,
   "metadata": {},
   "outputs": [
    {
     "name": "stdout",
     "output_type": "stream",
     "text": [
      "Multiclass accuracy (train): 90.33 %\n"
     ]
    }
   ],
   "source": [
    "# Print the accuracy on the train dataset\n",
    "print('Multiclass accuracy (train):', round(mlp4.multiclass_accuracy(y_train.to_numpy().ravel(),y_pred_train_model4, nb_labels)*100,2), '%')"
   ]
  },
  {
   "cell_type": "code",
   "execution_count": 97,
   "metadata": {},
   "outputs": [],
   "source": [
    "# Predict on the test dataset\n",
    "y_pred_test_model4 = mlp4.predict(x_test.to_numpy())"
   ]
  },
  {
   "cell_type": "code",
   "execution_count": 98,
   "metadata": {},
   "outputs": [
    {
     "name": "stdout",
     "output_type": "stream",
     "text": [
      "Multiclass accuracy (test): 87.54 %\n"
     ]
    }
   ],
   "source": [
    "# Print the accuracy on the test dataset\n",
    "print('Multiclass accuracy (test):', round(mlp4.multiclass_accuracy(y_test.to_numpy().ravel(),y_pred_test_model4, nb_labels)*100,2), '%')"
   ]
  },
  {
   "cell_type": "code",
   "execution_count": 99,
   "metadata": {},
   "outputs": [
    {
     "data": {
      "image/png": "[encoded data removed]",
      "text/plain": [
       "<Figure size 432x288 with 1 Axes>"
      ]
     },
     "metadata": {
      "needs_background": "light"
     },
     "output_type": "display_data"
    }
   ],
   "source": [
    "# Plot the evolution of the accuracy over the epochs\n",
    "plt.plot(mlp4.epoch_accuracy_train, label = \"accuracy on the train set\")\n",
    "plt.plot(mlp4.epoch_accuracy_test, label = \"accuracy on the test set\")\n",
    "plt.legend(loc = 0)\n",
    "plt.xlabel(\"Epoch\")\n",
    "plt.ylabel(\"Accuracy\")\n",
    "plt.show()"
   ]
  },
  {
   "cell_type": "markdown",
   "metadata": {
    "id": "ERJUeCWmNzB0"
   },
   "source": [
    "### Model 5 MLP with Leaky-ReLU activation function"
   ]
  },
  {
   "cell_type": "code",
   "execution_count": 142,
   "metadata": {
    "id": "pTmwn_cpNCRQ"
   },
   "outputs": [
    {
     "name": "stderr",
     "output_type": "stream",
     "text": [
      "  7%|▋         | 1/15 [00:21<05:01, 21.57s/it]"
     ]
    },
    {
     "name": "stdout",
     "output_type": "stream",
     "text": [
      "epoch 1 |loss_train 0.488211694717507 |accu-train 0.8224 |accu-test 0.8098\n"
     ]
    },
    {
     "name": "stderr",
     "output_type": "stream",
     "text": [
      "\r",
      " 13%|█▎        | 2/15 [00:43<04:40, 21.58s/it]"
     ]
    },
    {
     "name": "stdout",
     "output_type": "stream",
     "text": [
      "epoch 2 |loss_train 0.41571759638283057 |accu-train 0.8503166666666667 |accu-test 0.8334\n"
     ]
    },
    {
     "name": "stderr",
     "output_type": "stream",
     "text": [
      "\r",
      " 20%|██        | 3/15 [01:04<04:19, 21.64s/it]"
     ]
    },
    {
     "name": "stdout",
     "output_type": "stream",
     "text": [
      "epoch 3 |loss_train 0.3751295193604846 |accu-train 0.8644833333333334 |accu-test 0.8499\n"
     ]
    },
    {
     "name": "stderr",
     "output_type": "stream",
     "text": [
      "\r",
      " 27%|██▋       | 4/15 [01:26<03:59, 21.75s/it]"
     ]
    },
    {
     "name": "stdout",
     "output_type": "stream",
     "text": [
      "epoch 4 |loss_train 0.3541073001294471 |accu-train 0.87075 |accu-test 0.8532\n"
     ]
    },
    {
     "name": "stderr",
     "output_type": "stream",
     "text": [
      "\r",
      " 33%|███▎      | 5/15 [01:48<03:37, 21.77s/it]"
     ]
    },
    {
     "name": "stdout",
     "output_type": "stream",
     "text": [
      "epoch 5 |loss_train 0.35762923130323604 |accu-train 0.8692833333333333 |accu-test 0.8526\n"
     ]
    },
    {
     "name": "stderr",
     "output_type": "stream",
     "text": [
      "\r",
      " 40%|████      | 6/15 [02:10<03:14, 21.66s/it]"
     ]
    },
    {
     "name": "stdout",
     "output_type": "stream",
     "text": [
      "epoch 6 |loss_train 0.3316897877960637 |accu-train 0.87995 |accu-test 0.859\n"
     ]
    },
    {
     "name": "stderr",
     "output_type": "stream",
     "text": [
      "\r",
      " 47%|████▋     | 7/15 [02:31<02:52, 21.62s/it]"
     ]
    },
    {
     "name": "stdout",
     "output_type": "stream",
     "text": [
      "epoch 7 |loss_train 0.3134071946672014 |accu-train 0.8863833333333333 |accu-test 0.8654\n"
     ]
    },
    {
     "name": "stderr",
     "output_type": "stream",
     "text": [
      "\r",
      " 53%|█████▎    | 8/15 [02:53<02:31, 21.60s/it]"
     ]
    },
    {
     "name": "stdout",
     "output_type": "stream",
     "text": [
      "epoch 8 |loss_train 0.3080732509711405 |accu-train 0.88775 |accu-test 0.864\n"
     ]
    },
    {
     "name": "stderr",
     "output_type": "stream",
     "text": [
      "\r",
      " 60%|██████    | 9/15 [03:14<02:09, 21.59s/it]"
     ]
    },
    {
     "name": "stdout",
     "output_type": "stream",
     "text": [
      "epoch 9 |loss_train 0.30069849804396537 |accu-train 0.8903 |accu-test 0.8653\n"
     ]
    },
    {
     "name": "stderr",
     "output_type": "stream",
     "text": [
      "\r",
      " 67%|██████▋   | 10/15 [03:36<01:48, 21.62s/it]"
     ]
    },
    {
     "name": "stdout",
     "output_type": "stream",
     "text": [
      "epoch 10 |loss_train 0.29977196232794584 |accu-train 0.89145 |accu-test 0.8661\n"
     ]
    },
    {
     "name": "stderr",
     "output_type": "stream",
     "text": [
      "\r",
      " 73%|███████▎  | 11/15 [03:57<01:26, 21.60s/it]"
     ]
    },
    {
     "name": "stdout",
     "output_type": "stream",
     "text": [
      "epoch 11 |loss_train 0.2851708239692386 |accu-train 0.8964166666666666 |accu-test 0.8695\n"
     ]
    },
    {
     "name": "stderr",
     "output_type": "stream",
     "text": [
      "\r",
      " 80%|████████  | 12/15 [04:19<01:04, 21.59s/it]"
     ]
    },
    {
     "name": "stdout",
     "output_type": "stream",
     "text": [
      "epoch 12 |loss_train 0.27107892738766365 |accu-train 0.9022666666666667 |accu-test 0.8729\n"
     ]
    },
    {
     "name": "stderr",
     "output_type": "stream",
     "text": [
      "\r",
      " 87%|████████▋ | 13/15 [04:41<00:43, 21.56s/it]"
     ]
    },
    {
     "name": "stdout",
     "output_type": "stream",
     "text": [
      "epoch 13 |loss_train 0.26595754618297257 |accu-train 0.9039 |accu-test 0.874\n"
     ]
    },
    {
     "name": "stderr",
     "output_type": "stream",
     "text": [
      "\r",
      " 93%|█████████▎| 14/15 [05:02<00:21, 21.55s/it]"
     ]
    },
    {
     "name": "stdout",
     "output_type": "stream",
     "text": [
      "epoch 14 |loss_train 0.2677100971566774 |accu-train 0.9001333333333333 |accu-test 0.8681\n"
     ]
    },
    {
     "name": "stderr",
     "output_type": "stream",
     "text": [
      "100%|██████████| 15/15 [05:24<00:00, 21.63s/it]"
     ]
    },
    {
     "name": "stdout",
     "output_type": "stream",
     "text": [
      "epoch 15 |loss_train 0.254912525107075 |accu-train 0.9078 |accu-test 0.8744\n"
     ]
    },
    {
     "name": "stderr",
     "output_type": "stream",
     "text": [
      "\n"
     ]
    },
    {
     "data": {
      "image/png": "[encoded data removed]",
      "text/plain": [
       "<Figure size 432x288 with 1 Axes>"
      ]
     },
     "metadata": {
      "needs_background": "light"
     },
     "output_type": "display_data"
    }
   ],
   "source": [
    "# Train the model\n",
    "hidden_layers_size = 128\n",
    "alpha=0.001\n",
    "input_size = x_train.shape[1]\n",
    "nb_labels = len(class_name)\n",
    "mlp5 = MLP(LinearLayer(input_size, hidden_layers_size), \n",
    "    LeakyReLULayer(alpha),\n",
    "    LinearLayer(hidden_layers_size, hidden_layers_size),\n",
    "    LeakyReLULayer(alpha),\n",
    "    LinearLayer(hidden_layers_size, nb_labels),\n",
    "    SoftmaxOutputLayer(),batch_size=64)\n",
    "opt = StochasticGradientDescentOptimizer(mlp5, 0.01)\n",
    "epoch = 15\n",
    "mlp5.fit(opt, x_train.to_numpy(), y_train.to_numpy().ravel(), x_test.to_numpy(), y_test.to_numpy().ravel(), epoch, nb_labels)"
   ]
  },
  {
   "cell_type": "code",
   "execution_count": 143,
   "metadata": {},
   "outputs": [],
   "source": [
    "# Predict on the train dataset\n",
    "y_pred_train_model5 = mlp5.predict(x_train.to_numpy())"
   ]
  },
  {
   "cell_type": "code",
   "execution_count": 144,
   "metadata": {},
   "outputs": [
    {
     "name": "stdout",
     "output_type": "stream",
     "text": [
      "Multiclass accuracy (train): 90.78 %\n"
     ]
    }
   ],
   "source": [
    "# Print the accuracy on the train dataset\n",
    "print('Multiclass accuracy (train):', round(mlp5.multiclass_accuracy(y_train.to_numpy().ravel(),y_pred_train_model5, nb_labels)*100,2), '%')"
   ]
  },
  {
   "cell_type": "code",
   "execution_count": 145,
   "metadata": {},
   "outputs": [],
   "source": [
    "# Predict on the test dataset\n",
    "y_pred_test_model5 = mlp5.predict(x_test.to_numpy())"
   ]
  },
  {
   "cell_type": "code",
   "execution_count": 146,
   "metadata": {},
   "outputs": [
    {
     "name": "stdout",
     "output_type": "stream",
     "text": [
      "Multiclass accuracy (test): 87.44 %\n"
     ]
    }
   ],
   "source": [
    "# Print the accuracy on the test dataset\n",
    "print('Multiclass accuracy (test):', round(mlp5.multiclass_accuracy(y_test.to_numpy().ravel(),y_pred_test_model5, nb_labels)*100,2), '%')"
   ]
  },
  {
   "cell_type": "code",
   "execution_count": 147,
   "metadata": {
    "scrolled": true
   },
   "outputs": [
    {
     "data": {
      "image/png": "[encoded data removed]",
      "text/plain": [
       "<Figure size 432x288 with 1 Axes>"
      ]
     },
     "metadata": {
      "needs_background": "light"
     },
     "output_type": "display_data"
    }
   ],
   "source": [
    "# Plot the evolution of the accuracy over the epochs\n",
    "plt.plot(mlp5.epoch_accuracy_train, label = \"accuracy on the train set\")\n",
    "plt.plot(mlp5.epoch_accuracy_test, label = \"accuracy on the test set\")\n",
    "plt.legend(loc = 0)\n",
    "plt.xlabel(\"Epoch\")\n",
    "plt.ylabel(\"Accuracy\")\n",
    "plt.show()"
   ]
  },
  {
   "cell_type": "markdown",
   "metadata": {
    "id": "tQcN-OcrOhQu"
   },
   "source": [
    "# Model 6 MLP with L2 regularization"
   ]
  },
  {
   "cell_type": "code",
   "execution_count": 114,
   "metadata": {
    "scrolled": true
   },
   "outputs": [
    {
     "name": "stderr",
     "output_type": "stream",
     "text": [
      "  7%|▋         | 1/15 [00:22<05:16, 22.62s/it]"
     ]
    },
    {
     "name": "stdout",
     "output_type": "stream",
     "text": [
      "epoch 1 |loss_train 0.5144945427389075 |accu-train 0.81605 |accu-test 0.8082\n"
     ]
    },
    {
     "name": "stderr",
     "output_type": "stream",
     "text": [
      "\r",
      " 13%|█▎        | 2/15 [00:45<04:56, 22.78s/it]"
     ]
    },
    {
     "name": "stdout",
     "output_type": "stream",
     "text": [
      "epoch 2 |loss_train 0.4473469066585484 |accu-train 0.8411 |accu-test 0.8294\n"
     ]
    },
    {
     "name": "stderr",
     "output_type": "stream",
     "text": [
      "\r",
      " 20%|██        | 3/15 [01:08<04:36, 23.07s/it]"
     ]
    },
    {
     "name": "stdout",
     "output_type": "stream",
     "text": [
      "epoch 3 |loss_train 0.4172746595436399 |accu-train 0.8524333333333334 |accu-test 0.8366\n"
     ]
    },
    {
     "name": "stderr",
     "output_type": "stream",
     "text": [
      "\r",
      " 27%|██▋       | 4/15 [01:32<04:15, 23.24s/it]"
     ]
    },
    {
     "name": "stdout",
     "output_type": "stream",
     "text": [
      "epoch 4 |loss_train 0.3979363148600966 |accu-train 0.8594666666666667 |accu-test 0.8414\n"
     ]
    },
    {
     "name": "stderr",
     "output_type": "stream",
     "text": [
      "\r",
      " 33%|███▎      | 5/15 [01:54<03:49, 22.99s/it]"
     ]
    },
    {
     "name": "stdout",
     "output_type": "stream",
     "text": [
      "epoch 5 |loss_train 0.38233767455968665 |accu-train 0.8642 |accu-test 0.8448\n"
     ]
    },
    {
     "name": "stderr",
     "output_type": "stream",
     "text": [
      "\r",
      " 40%|████      | 6/15 [02:18<03:29, 23.28s/it]"
     ]
    },
    {
     "name": "stdout",
     "output_type": "stream",
     "text": [
      "epoch 6 |loss_train 0.37355155702821796 |accu-train 0.86795 |accu-test 0.8452\n"
     ]
    },
    {
     "name": "stderr",
     "output_type": "stream",
     "text": [
      "\r",
      " 47%|████▋     | 7/15 [02:44<03:11, 23.94s/it]"
     ]
    },
    {
     "name": "stdout",
     "output_type": "stream",
     "text": [
      "epoch 7 |loss_train 0.3642844786168664 |accu-train 0.8706333333333334 |accu-test 0.8527\n"
     ]
    },
    {
     "name": "stderr",
     "output_type": "stream",
     "text": [
      "\r",
      " 53%|█████▎    | 8/15 [03:06<02:44, 23.45s/it]"
     ]
    },
    {
     "name": "stdout",
     "output_type": "stream",
     "text": [
      "epoch 8 |loss_train 0.3533852123970765 |accu-train 0.8748 |accu-test 0.8536\n"
     ]
    },
    {
     "name": "stderr",
     "output_type": "stream",
     "text": [
      "\r",
      " 60%|██████    | 9/15 [03:28<02:17, 22.89s/it]"
     ]
    },
    {
     "name": "stdout",
     "output_type": "stream",
     "text": [
      "epoch 9 |loss_train 0.34720027745292864 |accu-train 0.8775 |accu-test 0.8586\n"
     ]
    },
    {
     "name": "stderr",
     "output_type": "stream",
     "text": [
      "\r",
      " 67%|██████▋   | 10/15 [03:50<01:52, 22.57s/it]"
     ]
    },
    {
     "name": "stdout",
     "output_type": "stream",
     "text": [
      "epoch 10 |loss_train 0.33886965724768914 |accu-train 0.8791333333333333 |accu-test 0.8587\n"
     ]
    },
    {
     "name": "stderr",
     "output_type": "stream",
     "text": [
      "\r",
      " 73%|███████▎  | 11/15 [04:12<01:30, 22.57s/it]"
     ]
    },
    {
     "name": "stdout",
     "output_type": "stream",
     "text": [
      "epoch 11 |loss_train 0.3329495583349462 |accu-train 0.8831333333333333 |accu-test 0.8613\n"
     ]
    },
    {
     "name": "stderr",
     "output_type": "stream",
     "text": [
      "\r",
      " 80%|████████  | 12/15 [04:34<01:07, 22.49s/it]"
     ]
    },
    {
     "name": "stdout",
     "output_type": "stream",
     "text": [
      "epoch 12 |loss_train 0.3277990130810733 |accu-train 0.8840333333333333 |accu-test 0.8606\n"
     ]
    },
    {
     "name": "stderr",
     "output_type": "stream",
     "text": [
      "\r",
      " 87%|████████▋ | 13/15 [04:58<00:45, 22.79s/it]"
     ]
    },
    {
     "name": "stdout",
     "output_type": "stream",
     "text": [
      "epoch 13 |loss_train 0.325975999283528 |accu-train 0.8846 |accu-test 0.8603\n"
     ]
    },
    {
     "name": "stderr",
     "output_type": "stream",
     "text": [
      "\r",
      " 93%|█████████▎| 14/15 [05:20<00:22, 22.53s/it]"
     ]
    },
    {
     "name": "stdout",
     "output_type": "stream",
     "text": [
      "epoch 14 |loss_train 0.324564126971258 |accu-train 0.8829333333333333 |accu-test 0.8618\n"
     ]
    },
    {
     "name": "stderr",
     "output_type": "stream",
     "text": [
      "100%|██████████| 15/15 [05:41<00:00, 22.78s/it]"
     ]
    },
    {
     "name": "stdout",
     "output_type": "stream",
     "text": [
      "epoch 15 |loss_train 0.3150271989958413 |accu-train 0.8882333333333333 |accu-test 0.8634\n"
     ]
    },
    {
     "name": "stderr",
     "output_type": "stream",
     "text": [
      "\n"
     ]
    },
    {
     "data": {
      "image/png": "[encoded data removed]",
      "text/plain": [
       "<Figure size 432x288 with 1 Axes>"
      ]
     },
     "metadata": {
      "needs_background": "light"
     },
     "output_type": "display_data"
    }
   ],
   "source": [
    "# Train the model\n",
    "hidden_layers_size = 128\n",
    "Lambda=0.001\n",
    "#Lambda=0.01\n",
    "#Lambda=0.1\n",
    "input_size = x_train.shape[1]\n",
    "nb_labels = len(class_name)\n",
    "mlp6 = MLP(LinearLayer(input_size, hidden_layers_size), \n",
    "    ReLULayer(),\n",
    "    LinearLayer(hidden_layers_size, hidden_layers_size),\n",
    "    ReLULayer(),\n",
    "    LinearLayer(hidden_layers_size, nb_labels),\n",
    "    SoftmaxOutputLayer(),\n",
    "          batch_size=64)\n",
    "opt = GradientDescentRegularizedOptimizer(mlp6, 0.005, Lambda)\n",
    "epoch = 15\n",
    "mlp6.fit(opt, x_train.to_numpy(), y_train.to_numpy().ravel(), x_test.to_numpy(), y_test.to_numpy().ravel(), epoch, nb_labels)"
   ]
  },
  {
   "cell_type": "code",
   "execution_count": 115,
   "metadata": {},
   "outputs": [],
   "source": [
    "# Predict on the train dataset\n",
    "y_pred_train_model6 = mlp6.predict(x_train.to_numpy())"
   ]
  },
  {
   "cell_type": "code",
   "execution_count": 116,
   "metadata": {},
   "outputs": [
    {
     "name": "stdout",
     "output_type": "stream",
     "text": [
      "Multiclass accuracy (train): 88.82 %\n"
     ]
    }
   ],
   "source": [
    "# Print the accuracy on the train dataset\n",
    "print('Multiclass accuracy (train):', round(mlp6.multiclass_accuracy(y_train.to_numpy().ravel(),y_pred_train_model6, nb_labels)*100,2), '%')"
   ]
  },
  {
   "cell_type": "code",
   "execution_count": 117,
   "metadata": {},
   "outputs": [],
   "source": [
    "# Predict on the test dataset\n",
    "y_pred_test_model6 = mlp6.predict(x_test.to_numpy())"
   ]
  },
  {
   "cell_type": "code",
   "execution_count": 118,
   "metadata": {},
   "outputs": [
    {
     "name": "stdout",
     "output_type": "stream",
     "text": [
      "Multiclass accuracy (test): 86.34 %\n"
     ]
    }
   ],
   "source": [
    "# Print the accuracy on the test dataset\n",
    "print('Multiclass accuracy (test):', round(mlp6.multiclass_accuracy(y_test.to_numpy().ravel(),y_pred_test_model6, nb_labels)*100,2), '%')"
   ]
  },
  {
   "cell_type": "code",
   "execution_count": 119,
   "metadata": {},
   "outputs": [
    {
     "data": {
      "image/png": "[encoded data removed]",
      "text/plain": [
       "<Figure size 432x288 with 1 Axes>"
      ]
     },
     "metadata": {
      "needs_background": "light"
     },
     "output_type": "display_data"
    }
   ],
   "source": [
    "# Plot the evolution of the accuracy over the epochs\n",
    "plt.plot(mlp6.epoch_accuracy_train, label = \"accuracy on the train set\")\n",
    "plt.plot(mlp6.epoch_accuracy_test, label = \"accuracy on the train set\")\n",
    "plt.legend(loc = 0)\n",
    "plt.xlabel(\"Epoch\")\n",
    "plt.ylabel(\"Accuracy\")\n",
    "plt.show()"
   ]
  },
  {
   "cell_type": "markdown",
   "metadata": {},
   "source": [
    "# Model 7 MLP with unnormalized images"
   ]
  },
  {
   "cell_type": "code",
   "execution_count": 15,
   "metadata": {},
   "outputs": [],
   "source": [
    "# Import the unnormalized datasets\n",
    "x_train_un, y_train, x_test_un, y_test = data_import(normalize = False)\n",
    "y_test.columns= ['Class']\n",
    "y_train.columns= ['Class']"
   ]
  },
  {
   "cell_type": "code",
   "execution_count": 16,
   "metadata": {},
   "outputs": [
    {
     "data": {
      "image/png": "[encoded data removed]",
      "text/plain": [
       "<Figure size 432x288 with 1 Axes>"
      ]
     },
     "metadata": {
      "needs_background": "light"
     },
     "output_type": "display_data"
    }
   ],
   "source": [
    "# Plot the first element of the unormalized training dataset\n",
    "vector = x_train_un.iloc[0,:].to_numpy()\n",
    "visualize(vector, int(np.sqrt(len(vector))), int(np.sqrt(len(vector))))"
   ]
  },
  {
   "cell_type": "code",
   "execution_count": 82,
   "metadata": {
    "scrolled": true
   },
   "outputs": [
    {
     "name": "stderr",
     "output_type": "stream",
     "text": [
      "  7%|▋         | 1/15 [00:23<05:35, 23.99s/it]"
     ]
    },
    {
     "name": "stdout",
     "output_type": "stream",
     "text": [
      "epoch 1 |loss_train 0.6629218333241991 |accu-train 0.7691666666666667 |accu-test 0.7613\n"
     ]
    },
    {
     "name": "stderr",
     "output_type": "stream",
     "text": [
      "\r",
      " 13%|█▎        | 2/15 [00:45<04:54, 22.68s/it]"
     ]
    },
    {
     "name": "stdout",
     "output_type": "stream",
     "text": [
      "epoch 2 |loss_train 0.5662291411204932 |accu-train 0.7993166666666667 |accu-test 0.7897\n"
     ]
    },
    {
     "name": "stderr",
     "output_type": "stream",
     "text": [
      "\r",
      " 20%|██        | 3/15 [01:07<04:27, 22.29s/it]"
     ]
    },
    {
     "name": "stdout",
     "output_type": "stream",
     "text": [
      "epoch 3 |loss_train 0.5132027818799084 |accu-train 0.8182833333333334 |accu-test 0.8094\n"
     ]
    },
    {
     "name": "stderr",
     "output_type": "stream",
     "text": [
      "\r",
      " 27%|██▋       | 4/15 [01:29<04:03, 22.11s/it]"
     ]
    },
    {
     "name": "stdout",
     "output_type": "stream",
     "text": [
      "epoch 4 |loss_train 0.4922364619577058 |accu-train 0.8256833333333333 |accu-test 0.8154\n"
     ]
    },
    {
     "name": "stderr",
     "output_type": "stream",
     "text": [
      "\r",
      " 33%|███▎      | 5/15 [01:51<03:39, 21.96s/it]"
     ]
    },
    {
     "name": "stdout",
     "output_type": "stream",
     "text": [
      "epoch 5 |loss_train 0.46844238174820074 |accu-train 0.8355166666666667 |accu-test 0.8231\n"
     ]
    },
    {
     "name": "stderr",
     "output_type": "stream",
     "text": [
      "\r",
      " 40%|████      | 6/15 [02:13<03:17, 21.99s/it]"
     ]
    },
    {
     "name": "stdout",
     "output_type": "stream",
     "text": [
      "epoch 6 |loss_train 0.45159193971343925 |accu-train 0.84085 |accu-test 0.8269\n"
     ]
    },
    {
     "name": "stderr",
     "output_type": "stream",
     "text": [
      "\r",
      " 47%|████▋     | 7/15 [02:35<02:55, 21.99s/it]"
     ]
    },
    {
     "name": "stdout",
     "output_type": "stream",
     "text": [
      "epoch 7 |loss_train 0.4405971422602377 |accu-train 0.84455 |accu-test 0.8331\n"
     ]
    },
    {
     "name": "stderr",
     "output_type": "stream",
     "text": [
      "\r",
      " 53%|█████▎    | 8/15 [02:57<02:34, 22.10s/it]"
     ]
    },
    {
     "name": "stdout",
     "output_type": "stream",
     "text": [
      "epoch 8 |loss_train 0.42833081494296543 |accu-train 0.8494333333333334 |accu-test 0.8363\n"
     ]
    },
    {
     "name": "stderr",
     "output_type": "stream",
     "text": [
      "\r",
      " 60%|██████    | 9/15 [03:19<02:12, 22.16s/it]"
     ]
    },
    {
     "name": "stdout",
     "output_type": "stream",
     "text": [
      "epoch 9 |loss_train 0.42493144247662523 |accu-train 0.849 |accu-test 0.8367\n"
     ]
    },
    {
     "name": "stderr",
     "output_type": "stream",
     "text": [
      "\r",
      " 67%|██████▋   | 10/15 [03:41<01:50, 22.10s/it]"
     ]
    },
    {
     "name": "stdout",
     "output_type": "stream",
     "text": [
      "epoch 10 |loss_train 0.42634815499131856 |accu-train 0.8484 |accu-test 0.8357\n"
     ]
    },
    {
     "name": "stderr",
     "output_type": "stream",
     "text": [
      "\r",
      " 73%|███████▎  | 11/15 [04:03<01:28, 22.09s/it]"
     ]
    },
    {
     "name": "stdout",
     "output_type": "stream",
     "text": [
      "epoch 11 |loss_train 0.4080635219729813 |accu-train 0.8564 |accu-test 0.8429\n"
     ]
    },
    {
     "name": "stderr",
     "output_type": "stream",
     "text": [
      "\r",
      " 80%|████████  | 12/15 [04:25<01:05, 21.88s/it]"
     ]
    },
    {
     "name": "stdout",
     "output_type": "stream",
     "text": [
      "epoch 12 |loss_train 0.3995215273876437 |accu-train 0.8589166666666667 |accu-test 0.8459\n"
     ]
    },
    {
     "name": "stderr",
     "output_type": "stream",
     "text": [
      "\r",
      " 87%|████████▋ | 13/15 [04:46<00:43, 21.56s/it]"
     ]
    },
    {
     "name": "stdout",
     "output_type": "stream",
     "text": [
      "epoch 13 |loss_train 0.402269961975363 |accu-train 0.85705 |accu-test 0.8422\n"
     ]
    },
    {
     "name": "stderr",
     "output_type": "stream",
     "text": [
      "\r",
      " 93%|█████████▎| 14/15 [05:07<00:21, 21.59s/it]"
     ]
    },
    {
     "name": "stdout",
     "output_type": "stream",
     "text": [
      "epoch 14 |loss_train 0.41090372038218537 |accu-train 0.8519833333333333 |accu-test 0.8399\n"
     ]
    },
    {
     "name": "stderr",
     "output_type": "stream",
     "text": [
      "100%|██████████| 15/15 [05:29<00:00, 21.94s/it]"
     ]
    },
    {
     "name": "stdout",
     "output_type": "stream",
     "text": [
      "epoch 15 |loss_train 0.3832749284544557 |accu-train 0.86385 |accu-test 0.8482\n"
     ]
    },
    {
     "name": "stderr",
     "output_type": "stream",
     "text": [
      "\n"
     ]
    },
    {
     "data": {
      "image/png": "[encoded data removed]",
      "text/plain": [
       "<Figure size 432x288 with 1 Axes>"
      ]
     },
     "metadata": {
      "needs_background": "light"
     },
     "output_type": "display_data"
    }
   ],
   "source": [
    "# Train the model\n",
    "hidden_layers_size =128\n",
    "input_size = x_train_un.shape[1]\n",
    "nb_labels = len(class_name)\n",
    "mlp7 = MLP(LinearLayer(input_size, hidden_layers_size), \n",
    "    ReLULayer(),\n",
    "    LinearLayer(hidden_layers_size, hidden_layers_size),\n",
    "    ReLULayer(),\n",
    "    LinearLayer(hidden_layers_size, nb_labels),\n",
    "    SoftmaxOutputLayer(),\n",
    "          batch_size=128)\n",
    "opt = StochasticGradientDescentOptimizer(mlp7, 0.01)\n",
    "epoch=15\n",
    "mlp7.fit(opt, x_train_un.to_numpy(), y_train.to_numpy().ravel(), x_test_un.to_numpy(), y_test.to_numpy().ravel(), epoch, nb_labels)"
   ]
  },
  {
   "cell_type": "code",
   "execution_count": 83,
   "metadata": {},
   "outputs": [],
   "source": [
    "# Predict on the train dataset\n",
    "y_pred_train_model7 = mlp7.predict(x_train_un.to_numpy())"
   ]
  },
  {
   "cell_type": "code",
   "execution_count": 84,
   "metadata": {},
   "outputs": [
    {
     "name": "stdout",
     "output_type": "stream",
     "text": [
      "Multiclass accuracy (train): 86.38 %\n"
     ]
    }
   ],
   "source": [
    "# Print the accuracy on the train dataset\n",
    "print('Multiclass accuracy (train):', round(mlp7.multiclass_accuracy(y_train.to_numpy().ravel(),y_pred_train_model7, nb_labels)*100,2), '%')"
   ]
  },
  {
   "cell_type": "code",
   "execution_count": 85,
   "metadata": {},
   "outputs": [],
   "source": [
    "# Predict on the test dataset\n",
    "y_pred_test_model7 = mlp7.predict(x_test_un.to_numpy())"
   ]
  },
  {
   "cell_type": "code",
   "execution_count": 86,
   "metadata": {},
   "outputs": [
    {
     "name": "stdout",
     "output_type": "stream",
     "text": [
      "Multiclass accuracy (test): 84.82 %\n"
     ]
    }
   ],
   "source": [
    "# Print the accuracy on the test dataset\n",
    "print('Multiclass accuracy (test):', round(mlp7.multiclass_accuracy(y_test.to_numpy().ravel(),y_pred_test_model7, nb_labels)*100,2), '%')"
   ]
  },
  {
   "cell_type": "code",
   "execution_count": 87,
   "metadata": {},
   "outputs": [
    {
     "data": {
      "image/png": "[encoded data removed]",
      "text/plain": [
       "<Figure size 432x288 with 1 Axes>"
      ]
     },
     "metadata": {
      "needs_background": "light"
     },
     "output_type": "display_data"
    }
   ],
   "source": [
    "# Plot the evolution of the accuracy over the epochs\n",
    "plt.plot(mlp7.epoch_accuracy_train, label = \"accuracy on the train set\")\n",
    "plt.plot(mlp7.epoch_accuracy_test, label = \"accuracy on the train set\")\n",
    "plt.legend(loc = 0)\n",
    "plt.xlabel(\"Epoch\")\n",
    "plt.ylabel(\"Accuracy\")\n",
    "plt.show()"
   ]
  },
  {
   "cell_type": "markdown",
   "metadata": {},
   "source": [
    "## CNN from PyTorch"
   ]
  },
  {
   "cell_type": "code",
   "execution_count": 161,
   "metadata": {},
   "outputs": [],
   "source": [
    "# Import necessary PyTorch modules\n",
    "import torch\n",
    "import torchvision\n",
    "import torchvision.transforms as transforms\n",
    "import torch.nn as nn\n",
    "import torch.nn.functional as F\n",
    "from torch.utils.data import DataLoader"
   ]
  },
  {
   "cell_type": "code",
   "execution_count": 162,
   "metadata": {},
   "outputs": [],
   "source": [
    "# Compute the pixel intensity standard deviation and mean for the test and train datasets\n",
    "avg_train = np.average(x_train_un.to_numpy())\n",
    "avg_test = np.average(x_test_un.to_numpy())\n",
    "std_train = np.std(x_train_un.to_numpy())\n",
    "std_test = np.std(x_test_un.to_numpy())"
   ]
  },
  {
   "cell_type": "code",
   "execution_count": 163,
   "metadata": {},
   "outputs": [
    {
     "data": {
      "text/plain": [
       "(0.2860405969887955,\n",
       " 0.2868492807122849,\n",
       " 0.35302424451492237,\n",
       " 0.35244415324744005)"
      ]
     },
     "execution_count": 163,
     "metadata": {},
     "output_type": "execute_result"
    }
   ],
   "source": [
    "# Plot the obtained values\n",
    "avg_train, avg_test, std_train, std_test"
   ]
  },
  {
   "cell_type": "code",
   "execution_count": 164,
   "metadata": {},
   "outputs": [],
   "source": [
    "# Import the dataset from torchvision\n",
    "train_set = torchvision.datasets.FashionMNIST(\n",
    "root = './data/FashionMNIST',\n",
    "download = True,\n",
    "train = True,\n",
    "transform = transforms.Compose([transforms.ToTensor(),transforms.Normalize(avg_train, std_train)]))\n",
    "\n",
    "test_set = torchvision.datasets.FashionMNIST(\n",
    "root = './data/FashionMNIST',\n",
    "download=True,\n",
    "train=False,\n",
    "transform = transforms.Compose([transforms.ToTensor(), transforms.Normalize(avg_test, std_test)]))"
   ]
  },
  {
   "cell_type": "code",
   "execution_count": 165,
   "metadata": {},
   "outputs": [],
   "source": [
    "# Define training and testing sets\n",
    "data_train = DataLoader(train_set,batch_size=256,shuffle=True)\n",
    "data_train_complete = DataLoader(train_set,batch_size=60000,shuffle=True)\n",
    "data_test = DataLoader(test_set,batch_size=10000, shuffle=True)"
   ]
  },
  {
   "cell_type": "code",
   "execution_count": 167,
   "metadata": {},
   "outputs": [],
   "source": [
    "#Build the CNN \n",
    "class CNN(nn.Module):\n",
    "    def __init__(self):\n",
    "        super(CNN,self).__init__()\n",
    "        self.conv_layer_1 = nn.Sequential(nn.Conv2d(in_channels=1,out_channels=32,kernel_size=3, padding=1), nn.BatchNorm2d(32))\n",
    "        self.conv_layer_2 = nn.Sequential(nn.Conv2d(in_channels=32,out_channels=64,kernel_size=3), nn.BatchNorm2d(64))\n",
    "        self.ful_conct_1 = nn.Linear(in_features=64*6*6,out_features=128)\n",
    "        self.ful_conct_2 = nn.Linear(in_features=128,out_features=128)\n",
    "        self.out = nn.Linear(in_features=128,out_features=10)\n",
    "        \n",
    "    def forward(self,input_data):\n",
    "        # Convolutional layer 1\n",
    "        input_data = self.conv_layer_1(input_data)\n",
    "        input_data = F.relu(input_data)\n",
    "        input_data = F.max_pool2d(input_data,kernel_size=2,stride=2)\n",
    "        # Convolutional layer 2\n",
    "        input_data = self.conv_layer_2(input_data)\n",
    "        input_data = F.relu(input_data)\n",
    "        input_data = F.max_pool2d(input_data,kernel_size=2,stride=2)\n",
    "        # Fully connected layer 1\n",
    "        input_data = input_data.reshape(-1,64*6*6)\n",
    "        input_data = self.ful_conct_1(input_data)\n",
    "        input_data = F.relu(input_data)\n",
    "        # Fully connected layer 2\n",
    "        input_data = self.ful_conct_2(input_data)\n",
    "        input_data = F.relu(input_data)\n",
    "        # Output layer\n",
    "        output = self.out(input_data)\n",
    "        return output"
   ]
  },
  {
   "cell_type": "code",
   "execution_count": 168,
   "metadata": {},
   "outputs": [],
   "source": [
    "# Set the parameters\n",
    "epochs = 5\n",
    "batch_size = 512\n",
    "learning_rate = 0.002\n",
    "device = torch.device(\"cuda:0\" if torch.cuda.is_available() else \"cpu\")\n",
    "cnn = CNN().to(device)\n",
    "optimizer = torch.optim.Adam(params=cnn.parameters(),lr=learning_rate)\n",
    "criterion = nn.CrossEntropyLoss()"
   ]
  },
  {
   "cell_type": "code",
   "execution_count": 169,
   "metadata": {},
   "outputs": [
    {
     "name": "stderr",
     "output_type": "stream",
     "text": [
      " 20%|██        | 1/5 [01:32<06:09, 92.27s/it]"
     ]
    },
    {
     "name": "stdout",
     "output_type": "stream",
     "text": [
      "epoch 1 |loss_train tensor(0.2737, grad_fn=<NllLossBackward0>) |accu-train 0.9017999768257141 |accu-test 0.888700008392334\n"
     ]
    },
    {
     "name": "stderr",
     "output_type": "stream",
     "text": [
      "\r",
      " 40%|████      | 2/5 [03:12<04:51, 97.02s/it]"
     ]
    },
    {
     "name": "stdout",
     "output_type": "stream",
     "text": [
      "epoch 2 |loss_train tensor(0.2658, grad_fn=<NllLossBackward0>) |accu-train 0.9001666903495789 |accu-test 0.8847000002861023\n"
     ]
    },
    {
     "name": "stderr",
     "output_type": "stream",
     "text": [
      "\r",
      " 60%|██████    | 3/5 [04:55<03:19, 99.86s/it]"
     ]
    },
    {
     "name": "stdout",
     "output_type": "stream",
     "text": [
      "epoch 3 |loss_train tensor(0.2049, grad_fn=<NllLossBackward0>) |accu-train 0.9246666431427002 |accu-test 0.9004999995231628\n"
     ]
    },
    {
     "name": "stderr",
     "output_type": "stream",
     "text": [
      "\r",
      " 80%|████████  | 4/5 [06:40<01:41, 101.86s/it]"
     ]
    },
    {
     "name": "stdout",
     "output_type": "stream",
     "text": [
      "epoch 4 |loss_train tensor(0.1956, grad_fn=<NllLossBackward0>) |accu-train 0.9294166564941406 |accu-test 0.906499981880188\n"
     ]
    },
    {
     "name": "stderr",
     "output_type": "stream",
     "text": [
      "100%|██████████| 5/5 [17:47<00:00, 213.57s/it]"
     ]
    },
    {
     "name": "stdout",
     "output_type": "stream",
     "text": [
      "epoch 5 |loss_train tensor(0.1546, grad_fn=<NllLossBackward0>) |accu-train 0.9424333572387695 |accu-test 0.9156000018119812\n"
     ]
    },
    {
     "name": "stderr",
     "output_type": "stream",
     "text": [
      "\n"
     ]
    }
   ],
   "source": [
    "# Train and test the CNN\n",
    "epoch_loss_train = []\n",
    "epoch_loss_test = []\n",
    "epoch_accuracy_train = []\n",
    "epoch_accuracy_test = []\n",
    "\n",
    "for epoch in tqdm(range(0, epochs)): \n",
    "    for batch in data_train:\n",
    "        x_train_cnn,y_train_cnn = batch   \n",
    "        y_pred_train = cnn(x_train_cnn)\n",
    "        loss_train = criterion(y_pred_train,y_train_cnn.reshape(-1))        \n",
    "        optimizer.zero_grad()\n",
    "        loss_train.backward()\n",
    "        optimizer.step()\n",
    "\n",
    "    x_train_cnn,y_train_cnn = next(iter(data_train_complete))\n",
    "    y_pred_train = cnn(x_train_cnn)\n",
    "    loss_train = criterion(y_pred_train,y_train_cnn.reshape(-1)) \n",
    "    epoch_loss_train.append(loss_train)    \n",
    "    accuracy_train = (y_pred_train.argmax(dim=1).eq(y_train_cnn).sum()/len(train_set)).item()\n",
    "    epoch_accuracy_train.append(accuracy_train)\n",
    "    \n",
    "    \n",
    "    x_test_cnn,y_test_cnn = next(iter(data_test))\n",
    "    y_pred_test = cnn(x_test_cnn)\n",
    "    loss_test = criterion(y_pred_test,y_test_cnn.reshape(-1)) \n",
    "    epoch_loss_test.append(loss_test)\n",
    "    accuracy_test = (y_pred_test.argmax(dim=1).eq(y_test_cnn).sum()/len(test_set)).item()\n",
    "    epoch_accuracy_test.append(accuracy_test)\n",
    "                       \n",
    "    print(\"epoch\", epoch+1, \"|loss_train\", loss_train, \"|accu-train\", accuracy_train, \"|accu-test\", accuracy_test)    "
   ]
  },
  {
   "cell_type": "code",
   "execution_count": 170,
   "metadata": {},
   "outputs": [
    {
     "data": {
      "image/png": "[encoded data removed]",
      "text/plain": [
       "<Figure size 432x288 with 1 Axes>"
      ]
     },
     "metadata": {
      "needs_background": "light"
     },
     "output_type": "display_data"
    }
   ],
   "source": [
    "# Plot the evolution of the loss over the epochs\n",
    "plt.plot(epoch_loss_train, label = \"cross entropy loss on the train set\")\n",
    "plt.plot(epoch_loss_test, label = \"cross entropy loss on the train set\")\n",
    "plt.legend(loc = 0)\n",
    "plt.xlabel(\"Epoch\")\n",
    "plt.ylabel(\"Loss\")\n",
    "plt.show()"
   ]
  },
  {
   "cell_type": "code",
   "execution_count": 171,
   "metadata": {},
   "outputs": [
    {
     "data": {
      "image/png": "[encoded data removed]",
      "text/plain": [
       "<Figure size 432x288 with 1 Axes>"
      ]
     },
     "metadata": {
      "needs_background": "light"
     },
     "output_type": "display_data"
    }
   ],
   "source": [
    "# Plot the evolution of the accuracy over the epochs\n",
    "plt.plot(epoch_accuracy_train, label = \"accuracy on the train set\")\n",
    "plt.plot(epoch_accuracy_test, label = \"accuracy on the train set\")\n",
    "plt.legend(loc = 0)\n",
    "plt.xlabel(\"Epoch\")\n",
    "plt.ylabel(\"Accuracy\")\n",
    "plt.show()"
   ]
  },
  {
   "cell_type": "markdown",
   "metadata": {},
   "source": [
    "# The proposed MLP"
   ]
  },
  {
   "cell_type": "code",
   "execution_count": 88,
   "metadata": {},
   "outputs": [
    {
     "name": "stderr",
     "output_type": "stream",
     "text": [
      "  7%|▋         | 1/15 [00:17<04:11, 17.95s/it]"
     ]
    },
    {
     "name": "stdout",
     "output_type": "stream",
     "text": [
      "epoch 1 |loss_train 0.43829490794736303 |accu-train 0.8408833333333333 |accu-test 0.8283\n"
     ]
    },
    {
     "name": "stderr",
     "output_type": "stream",
     "text": [
      "\r",
      " 13%|█▎        | 2/15 [00:35<03:51, 17.80s/it]"
     ]
    },
    {
     "name": "stdout",
     "output_type": "stream",
     "text": [
      "epoch 2 |loss_train 0.3688033396033463 |accu-train 0.8680166666666667 |accu-test 0.8518\n"
     ]
    },
    {
     "name": "stderr",
     "output_type": "stream",
     "text": [
      "\r",
      " 20%|██        | 3/15 [00:53<03:33, 17.80s/it]"
     ]
    },
    {
     "name": "stdout",
     "output_type": "stream",
     "text": [
      "epoch 3 |loss_train 0.3390511165449418 |accu-train 0.8761166666666667 |accu-test 0.8536\n"
     ]
    },
    {
     "name": "stderr",
     "output_type": "stream",
     "text": [
      "\r",
      " 27%|██▋       | 4/15 [01:11<03:15, 17.77s/it]"
     ]
    },
    {
     "name": "stdout",
     "output_type": "stream",
     "text": [
      "epoch 4 |loss_train 0.3095368647337865 |accu-train 0.8881666666666667 |accu-test 0.8638\n"
     ]
    },
    {
     "name": "stderr",
     "output_type": "stream",
     "text": [
      "\r",
      " 33%|███▎      | 5/15 [01:29<02:58, 17.82s/it]"
     ]
    },
    {
     "name": "stdout",
     "output_type": "stream",
     "text": [
      "epoch 5 |loss_train 0.28136831823694747 |accu-train 0.89875 |accu-test 0.8689\n"
     ]
    },
    {
     "name": "stderr",
     "output_type": "stream",
     "text": [
      "\r",
      " 40%|████      | 6/15 [01:47<02:40, 17.86s/it]"
     ]
    },
    {
     "name": "stdout",
     "output_type": "stream",
     "text": [
      "epoch 6 |loss_train 0.273486190132723 |accu-train 0.9002333333333333 |accu-test 0.8712\n"
     ]
    },
    {
     "name": "stderr",
     "output_type": "stream",
     "text": [
      "\r",
      " 47%|████▋     | 7/15 [02:05<02:23, 17.92s/it]"
     ]
    },
    {
     "name": "stdout",
     "output_type": "stream",
     "text": [
      "epoch 7 |loss_train 0.26353279949295066 |accu-train 0.9057 |accu-test 0.8722\n"
     ]
    },
    {
     "name": "stderr",
     "output_type": "stream",
     "text": [
      "\r",
      " 53%|█████▎    | 8/15 [02:22<02:04, 17.79s/it]"
     ]
    },
    {
     "name": "stdout",
     "output_type": "stream",
     "text": [
      "epoch 8 |loss_train 0.25849721603904835 |accu-train 0.9058333333333334 |accu-test 0.8706\n"
     ]
    },
    {
     "name": "stderr",
     "output_type": "stream",
     "text": [
      "\r",
      " 60%|██████    | 9/15 [02:40<01:47, 17.98s/it]"
     ]
    },
    {
     "name": "stdout",
     "output_type": "stream",
     "text": [
      "epoch 9 |loss_train 0.2605461398897733 |accu-train 0.9025 |accu-test 0.8663\n"
     ]
    },
    {
     "name": "stderr",
     "output_type": "stream",
     "text": [
      "\r",
      " 67%|██████▋   | 10/15 [02:59<01:30, 18.19s/it]"
     ]
    },
    {
     "name": "stdout",
     "output_type": "stream",
     "text": [
      "epoch 10 |loss_train 0.24648692670953612 |accu-train 0.9082 |accu-test 0.8691\n"
     ]
    },
    {
     "name": "stderr",
     "output_type": "stream",
     "text": [
      "\r",
      " 73%|███████▎  | 11/15 [03:17<01:12, 18.21s/it]"
     ]
    },
    {
     "name": "stdout",
     "output_type": "stream",
     "text": [
      "epoch 11 |loss_train 0.22287214351925372 |accu-train 0.9195833333333333 |accu-test 0.8795\n"
     ]
    },
    {
     "name": "stderr",
     "output_type": "stream",
     "text": [
      "\r",
      " 80%|████████  | 12/15 [03:36<00:54, 18.30s/it]"
     ]
    },
    {
     "name": "stdout",
     "output_type": "stream",
     "text": [
      "epoch 12 |loss_train 0.2416875517142371 |accu-train 0.9111 |accu-test 0.8705\n"
     ]
    },
    {
     "name": "stderr",
     "output_type": "stream",
     "text": [
      "\r",
      " 87%|████████▋ | 13/15 [03:55<00:36, 18.46s/it]"
     ]
    },
    {
     "name": "stdout",
     "output_type": "stream",
     "text": [
      "epoch 13 |loss_train 0.21407165599762878 |accu-train 0.9218666666666666 |accu-test 0.8774\n"
     ]
    },
    {
     "name": "stderr",
     "output_type": "stream",
     "text": [
      "\r",
      " 93%|█████████▎| 14/15 [04:13<00:18, 18.46s/it]"
     ]
    },
    {
     "name": "stdout",
     "output_type": "stream",
     "text": [
      "epoch 14 |loss_train 0.20454621078749813 |accu-train 0.9256833333333333 |accu-test 0.8786\n"
     ]
    },
    {
     "name": "stderr",
     "output_type": "stream",
     "text": [
      "100%|██████████| 15/15 [04:32<00:00, 18.15s/it]"
     ]
    },
    {
     "name": "stdout",
     "output_type": "stream",
     "text": [
      "epoch 15 |loss_train 0.197742959151545 |accu-train 0.9293333333333333 |accu-test 0.88\n"
     ]
    },
    {
     "name": "stderr",
     "output_type": "stream",
     "text": [
      "\n"
     ]
    },
    {
     "data": {
      "image/png": "[encoded data removed]",
      "text/plain": [
       "<Figure size 432x288 with 1 Axes>"
      ]
     },
     "metadata": {
      "needs_background": "light"
     },
     "output_type": "display_data"
    }
   ],
   "source": [
    "# Train the model\n",
    "input_size = x_train.shape[1]\n",
    "nb_labels = len(class_name)\n",
    "mlp8 = MLP(LinearLayer(input_size, 88), \n",
    "    TanHLayer(),\n",
    "    LinearLayer(88, 30),\n",
    "    TanHLayer(),\n",
    "    LinearLayer(30, nb_labels),\n",
    "    SoftmaxOutputLayer(),\n",
    "          batch_size=64)\n",
    "opt = StochasticGradientDescentOptimizer(mlp8, 0.05)\n",
    "epoch = 15\n",
    "mlp8.fit(opt, x_train.to_numpy(), y_train.to_numpy().ravel(), x_test.to_numpy(), y_test.to_numpy().ravel(), epoch, nb_labels)"
   ]
  },
  {
   "cell_type": "code",
   "execution_count": 89,
   "metadata": {},
   "outputs": [],
   "source": [
    "# Predict on the train dataset\n",
    "y_pred_train_model8 = mlp8.predict(x_train.to_numpy())"
   ]
  },
  {
   "cell_type": "code",
   "execution_count": 90,
   "metadata": {},
   "outputs": [
    {
     "name": "stdout",
     "output_type": "stream",
     "text": [
      "Multiclass accuracy (train): 92.93 %\n"
     ]
    }
   ],
   "source": [
    "# Print the accuracy on the train dataset\n",
    "print('Multiclass accuracy (train):', round(mlp8.multiclass_accuracy(y_train.to_numpy().ravel(),y_pred_train_model8, nb_labels)*100,2), '%')"
   ]
  },
  {
   "cell_type": "code",
   "execution_count": 91,
   "metadata": {},
   "outputs": [],
   "source": [
    "# Predict on the test dataset\n",
    "y_pred_test_model8 = mlp8.predict(x_test.to_numpy())"
   ]
  },
  {
   "cell_type": "code",
   "execution_count": 92,
   "metadata": {},
   "outputs": [
    {
     "name": "stdout",
     "output_type": "stream",
     "text": [
      "Multiclass accuracy (test): 88.0 %\n"
     ]
    }
   ],
   "source": [
    "# Print the accuracy on the test dataset\n",
    "print('Multiclass accuracy (test):', round(mlp8.multiclass_accuracy(y_test.to_numpy().ravel(),y_pred_test_model8, nb_labels)*100,2), '%')"
   ]
  },
  {
   "cell_type": "code",
   "execution_count": 93,
   "metadata": {},
   "outputs": [
    {
     "data": {
      "image/png": "[encoded data removed]",
      "text/plain": [
       "<Figure size 432x288 with 1 Axes>"
      ]
     },
     "metadata": {
      "needs_background": "light"
     },
     "output_type": "display_data"
    }
   ],
   "source": [
    "# Plot the evolution of the accuracy over the epochs\n",
    "plt.plot(mlp8.epoch_accuracy_train, label = \"acc-train\")\n",
    "plt.plot(mlp8.epoch_accuracy_test, label = \"acc-test\")\n",
    "plt.legend(loc = 0)\n",
    "plt.xlabel(\"Epoch\")\n",
    "plt.ylabel(\"Accuracy\")\n",
    "plt.show()"
   ]
  },
  {
   "cell_type": "markdown",
   "metadata": {},
   "source": [
    "# Confusion Matrix of CNN and the Proposed MLP"
   ]
  },
  {
   "cell_type": "code",
   "execution_count": 172,
   "metadata": {},
   "outputs": [],
   "source": [
    "# Create a function to plot the confusion matrix\n",
    "def conf_mat(y_test, y_pred):\n",
    "    conf_mat = np.zeros((len(class_name),len(class_name)))\n",
    "    for i in range(len(y_test)):\n",
    "        conf_mat[y_pred.argmax(axis=1)[i]][y_test[i]] += 1\n",
    "    conf_mat_df = pd.DataFrame(conf_mat, columns=class_name, index=class_name)\n",
    "    plt.subplots(figsize=(10,10))\n",
    "    sns.heatmap(conf_mat_df, annot=True, fmt=\"g\", linewidth=.5)\n",
    "    plt.xlabel('Predicted', fontsize = 15)\n",
    "    plt.ylabel('Actual', fontsize = 15)"
   ]
  },
  {
   "cell_type": "code",
   "execution_count": 173,
   "metadata": {},
   "outputs": [
    {
     "data": {
      "image/png": "[encoded data removed]",
      "text/plain": [
       "<Figure size 720x720 with 2 Axes>"
      ]
     },
     "metadata": {
      "needs_background": "light"
     },
     "output_type": "display_data"
    }
   ],
   "source": [
    "# Plot the confusion matrix for the CNN model\n",
    "conf_mat(y_test_cnn.detach().numpy().ravel(),y_pred_test.detach().numpy())"
   ]
  },
  {
   "cell_type": "code",
   "execution_count": 174,
   "metadata": {},
   "outputs": [
    {
     "data": {
      "image/png": "[encoded data removed]",
      "text/plain": [
       "<Figure size 720x720 with 2 Axes>"
      ]
     },
     "metadata": {
      "needs_background": "light"
     },
     "output_type": "display_data"
    }
   ],
   "source": [
    "# Plot the confusion matrix for the best MLP model\n",
    "conf_mat(y_test.to_numpy().ravel(),y_pred_test_model8)"
   ]
  }
 ],
 "metadata": {
  "colab": {
   "collapsed_sections": [],
   "provenance": []
  },
  "gpuClass": "standard",
  "kernelspec": {
   "display_name": "Python 3 (ipykernel)",
   "language": "python",
   "name": "python3"
  },
  "language_info": {
   "codemirror_mode": {
    "name": "ipython",
    "version": 3
   },
   "file_extension": ".py",
   "mimetype": "text/x-python",
   "name": "python",
   "nbconvert_exporter": "python",
   "pygments_lexer": "ipython3",
   "version": "3.8.5"
  },
  "toc": {
   "base_numbering": 1,
   "nav_menu": {},
   "number_sections": true,
   "sideBar": true,
   "skip_h1_title": false,
   "title_cell": "Table of Contents",
   "title_sidebar": "Contents",
   "toc_cell": false,
   "toc_position": {},
   "toc_section_display": true,
   "toc_window_display": false
  },
  "varInspector": {
   "cols": {
    "lenName": 16,
    "lenType": 16,
    "lenVar": 40
   },
   "kernels_config": {
    "python": {
     "delete_cmd_postfix": "",
     "delete_cmd_prefix": "del ",
     "library": "var_list.py",
     "varRefreshCmd": "print(var_dic_list())"
    },
    "r": {
     "delete_cmd_postfix": ") ",
     "delete_cmd_prefix": "rm(",
     "library": "var_list.r",
     "varRefreshCmd": "cat(var_dic_list()) "
    }
   },
   "types_to_exclude": [
    "module",
    "function",
    "builtin_function_or_method",
    "instance",
    "_Feature"
   ],
   "window_display": false
  }
 },
 "nbformat": 4,
 "nbformat_minor": 1
}
